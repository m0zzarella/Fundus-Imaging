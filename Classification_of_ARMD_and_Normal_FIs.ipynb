{
  "cells": [
    {
      "cell_type": "markdown",
      "metadata": {
        "id": "view-in-github",
        "colab_type": "text"
      },
      "source": [
        "<a href=\"https://colab.research.google.com/github/m0zzarella/Fundus-Imaging/blob/main/Classification_of_ARMD_and_Normal_FIs.ipynb\" target=\"_parent\"><img src=\"https://colab.research.google.com/assets/colab-badge.svg\" alt=\"Open In Colab\"/></a>"
      ]
    },
    {
      "cell_type": "code",
      "execution_count": 30,
      "metadata": {
        "id": "1PWiDK4gk-Zg"
      },
      "outputs": [],
      "source": [
        " # Import the necessary libraries\n",
        "import os\n",
        "from PIL import Image\n",
        "from PIL import Image, ImageFile\n",
        "ImageFile.LOAD_TRUNCATED_IMAGES = True\n",
        "import numpy as np\n",
        "import cv2\n",
        "from skimage import io\n",
        "from skimage.filters import threshold_otsu\n",
        "from skimage.morphology import opening\n",
        "from skimage.filters import gaussian\n",
        "from skimage.filters import difference_of_gaussians\n",
        "from skimage.morphology import dilation\n",
        "from skimage.transform import hough_circle\n",
        "from skimage import data, color\n",
        "from skimage.transform import rescale, resize, downscale_local_mean\n",
        "from skimage.feature import peak_local_max\n",
        "import matplotlib.pyplot as plt\n",
        "import cv2\n",
        "import numpy as np\n",
        "from sklearn.model_selection import train_test_split\n",
        "from sklearn.svm import SVC\n",
        "from sklearn.metrics import accuracy_score, precision_score, recall_score, f1_score, confusion_matrix\n",
        "\n",
        "from tqdm import tqdm"
      ]
    },
    {
      "cell_type": "code",
      "source": [
        "from google.colab import drive\n",
        "drive.mount('/content/drive')"
      ],
      "metadata": {
        "colab": {
          "base_uri": "https://localhost:8080/"
        },
        "id": "LWP-bNAUBC_0",
        "outputId": "0cb1750b-5791-4b3e-ea19-3405d405f6e9"
      },
      "execution_count": 2,
      "outputs": [
        {
          "output_type": "stream",
          "name": "stdout",
          "text": [
            "Mounted at /content/drive\n"
          ]
        }
      ]
    },
    {
      "cell_type": "code",
      "execution_count": 3,
      "metadata": {
        "id": "aZJqO7-ok-Zh"
      },
      "outputs": [],
      "source": [
        "#OD Detection\n",
        "\n",
        "def circle_brightest_part(image):\n",
        "    # Convert the image to grayscale\n",
        "    gray = cv2.cvtColor(image, cv2.COLOR_BGR2GRAY)\n",
        "\n",
        "    # Blur the image to reduce noise\n",
        "    blurred = cv2.GaussianBlur(gray, (5, 5), 0)\n",
        "\n",
        "    # Find the coordinates of the brightest pixel in the image\n",
        "    minVal, maxVal, minLoc, maxLoc = cv2.minMaxLoc(blurred)\n",
        "\n",
        "    # Draw a circle centered at the coordinates of the brightest pixel\n",
        "    brightest_part = cv2.circle(image, maxLoc, 30, (255, 0, 0), 2)\n",
        "\n",
        "    return brightest_part, list(maxLoc)\n"
      ]
    },
    {
      "cell_type": "code",
      "source": [
        "from google.colab import drive\n",
        "drive.mount(\"/content/drive\")"
      ],
      "metadata": {
        "colab": {
          "base_uri": "https://localhost:8080/"
        },
        "id": "OhOCUo2rlbXH",
        "outputId": "c634769c-1add-4fe8-fb07-2d0ab31b85c1"
      },
      "execution_count": null,
      "outputs": [
        {
          "output_type": "stream",
          "name": "stdout",
          "text": [
            "Mounted at /content/drive\n"
          ]
        }
      ]
    },
    {
      "cell_type": "code",
      "execution_count": 34,
      "metadata": {
        "collapsed": true,
        "colab": {
          "base_uri": "https://localhost:8080/"
        },
        "id": "ml4ezO_kk-Zh",
        "outputId": "d694e075-f062-4ff3-c945-2898be2f2c56"
      },
      "outputs": [
        {
          "output_type": "stream",
          "name": "stdout",
          "text": [
            "Processing aria_c_9_6.png from /content/drive/MyDrive/ARMD_flipped/Aria_Normal...\n",
            "Processing aria_c_7_2.png from /content/drive/MyDrive/ARMD_flipped/Aria_Normal...\n",
            "Processing aria_c_5_1.png from /content/drive/MyDrive/ARMD_flipped/Aria_Normal...\n",
            "Processing aria_c_4_ 1.png from /content/drive/MyDrive/ARMD_flipped/Aria_Normal...\n",
            "Processing aria_c_5_ 4.png from /content/drive/MyDrive/ARMD_flipped/Aria_Normal...\n",
            "Processing aria_c_4_ 8.png from /content/drive/MyDrive/ARMD_flipped/Aria_Normal...\n",
            "Processing aria_c_6_ 5.png from /content/drive/MyDrive/ARMD_flipped/Aria_Normal...\n",
            "Processing aria_c_47_2.png from /content/drive/MyDrive/ARMD_flipped/Aria_Normal...\n",
            "Processing aria_c_46_12.png from /content/drive/MyDrive/ARMD_flipped/Aria_Normal...\n",
            "Processing aria_c_45_2.png from /content/drive/MyDrive/ARMD_flipped/Aria_Normal...\n",
            "Processing aria_c_47_15.png from /content/drive/MyDrive/ARMD_flipped/Aria_Normal...\n",
            "Processing aria_c_6_ 2.png from /content/drive/MyDrive/ARMD_flipped/Aria_Normal...\n",
            "Processing aria_c_45_12.png from /content/drive/MyDrive/ARMD_flipped/Aria_Normal...\n",
            "Processing aria_c_44_3.png from /content/drive/MyDrive/ARMD_flipped/Aria_Normal...\n",
            "Processing aria_c_9_1.png from /content/drive/MyDrive/ARMD_flipped/Aria_Normal...\n",
            "Processing aria_c_3_ 2.png from /content/drive/MyDrive/ARMD_flipped/Aria_Normal...\n",
            "Processing aria_c_2_ 3.png from /content/drive/MyDrive/ARMD_flipped/Aria_Normal...\n",
            "Processing aria_c_2_ 8.png from /content/drive/MyDrive/ARMD_flipped/Aria_Normal...\n",
            "Processing aria_c_1_8.png from /content/drive/MyDrive/ARMD_flipped/Aria_Normal...\n",
            "Processing aria_c_22_1.png from /content/drive/MyDrive/ARMD_flipped/Aria_Normal...\n",
            "Processing aria_c_25_1.png from /content/drive/MyDrive/ARMD_flipped/Aria_Normal...\n",
            "Processing aria_c_25_10.png from /content/drive/MyDrive/ARMD_flipped/Aria_Normal...\n",
            "Processing aria_c_23_23.png from /content/drive/MyDrive/ARMD_flipped/Aria_Normal...\n",
            "Processing aria_c_20_18.png from /content/drive/MyDrive/ARMD_flipped/Aria_Normal...\n",
            "Processing aria_c_20_1.png from /content/drive/MyDrive/ARMD_flipped/Aria_Normal...\n",
            "Processing aria_c_21_12.png from /content/drive/MyDrive/ARMD_flipped/Aria_Normal...\n",
            "Processing aria_c_22_9.png from /content/drive/MyDrive/ARMD_flipped/Aria_Normal...\n",
            "Processing aria_c_20_10.png from /content/drive/MyDrive/ARMD_flipped/Aria_Normal...\n",
            "Processing aria_c_23_4.png from /content/drive/MyDrive/ARMD_flipped/Aria_Normal...\n",
            "Processing aria_c_21_3.png from /content/drive/MyDrive/ARMD_flipped/Aria_Normal...\n",
            "Processing aria_c_2_ 2.png from /content/drive/MyDrive/ARMD_flipped/Aria_Normal...\n",
            "Processing aria_c_24_2.png from /content/drive/MyDrive/ARMD_flipped/Aria_Normal...\n",
            "Processing aria_c_24_12.png from /content/drive/MyDrive/ARMD_flipped/Aria_Normal...\n",
            "Processing aria_c_31_20.png from /content/drive/MyDrive/ARMD_flipped/Aria_Normal...\n",
            "Processing aria_c_35_2.png from /content/drive/MyDrive/ARMD_flipped/Aria_Normal...\n",
            "Processing aria_c_31_2.png from /content/drive/MyDrive/ARMD_flipped/Aria_Normal...\n",
            "Processing aria_c_38_2.png from /content/drive/MyDrive/ARMD_flipped/Aria_Normal...\n",
            "Processing aria_c_35_26.png from /content/drive/MyDrive/ARMD_flipped/Aria_Normal...\n",
            "Processing aria_c_36_4.png from /content/drive/MyDrive/ARMD_flipped/Aria_Normal...\n",
            "Processing aria_c_36_44.png from /content/drive/MyDrive/ARMD_flipped/Aria_Normal...\n",
            "Processing aria_c_32_2.png from /content/drive/MyDrive/ARMD_flipped/Aria_Normal...\n",
            "Processing aria_c_29_2.png from /content/drive/MyDrive/ARMD_flipped/Aria_Normal...\n",
            "Processing aria_c_33_4.png from /content/drive/MyDrive/ARMD_flipped/Aria_Normal...\n",
            "Processing aria_c_1_7.png from /content/drive/MyDrive/ARMD_flipped/Aria_Normal...\n",
            "Processing aria_c_34_1.png from /content/drive/MyDrive/ARMD_flipped/Aria_Normal...\n",
            "Processing aria_c_38_42.png from /content/drive/MyDrive/ARMD_flipped/Aria_Normal...\n",
            "Processing aria_c_26_15.png from /content/drive/MyDrive/ARMD_flipped/Aria_Normal...\n",
            "Processing aria_c_35_27.png from /content/drive/MyDrive/ARMD_flipped/Aria_Normal...\n",
            "Processing aria_c_27_3.png from /content/drive/MyDrive/ARMD_flipped/Aria_Normal...\n",
            "Processing aria_c_26_2.png from /content/drive/MyDrive/ARMD_flipped/Aria_Normal...\n",
            "Processing aria_c_32_21.png from /content/drive/MyDrive/ARMD_flipped/Aria_Normal...\n",
            "Processing aria_c_28_19.png from /content/drive/MyDrive/ARMD_flipped/Aria_Normal...\n",
            "Processing aria_c_30_2.png from /content/drive/MyDrive/ARMD_flipped/Aria_Normal...\n",
            "Processing aria_c_43_1.png from /content/drive/MyDrive/ARMD_flipped/Aria_Normal...\n",
            "Processing aria_c_41_3.png from /content/drive/MyDrive/ARMD_flipped/Aria_Normal...\n",
            "Processing aria_c_40_a_6.png from /content/drive/MyDrive/ARMD_flipped/Aria_Normal...\n",
            "Processing aria_c_40_b_14.png from /content/drive/MyDrive/ARMD_flipped/Aria_Normal...\n",
            "Processing aria_c_44_12.png from /content/drive/MyDrive/ARMD_flipped/Aria_Normal...\n",
            "Processing aria_c_41_15.png from /content/drive/MyDrive/ARMD_flipped/Aria_Normal...\n",
            "Processing aria_c_39_a_10.png from /content/drive/MyDrive/ARMD_flipped/Aria_Normal...\n",
            "Processing (0031)aria_c_37.png from /content/drive/MyDrive/ARMD_flipped/Aria_Normal...\n",
            "ALL DONE!\n"
          ]
        }
      ],
      "source": [
        "img_src = \"/content/drive/MyDrive/ARMD_flipped/Aria_Normal\"\n",
        "resized_dst = \"/content/drive/MyDrive/ARMD_flipped/Aria_Normal_flipped\"\n",
        "width = 300\n",
        "\n",
        "\n",
        "# Loop through all the files in the source folder\n",
        "for filename in os.listdir(img_src):\n",
        "    #print(filename)\n",
        "\n",
        "    print(f\"Processing {filename} from {img_src}...\")\n",
        "    \n",
        "    # Load the image and convert it to grayscale\n",
        "    image = io.imread(img_src + \"/\" + filename)\n",
        "  \n",
        "\n",
        "    img_save = image.copy()\n",
        "    \n",
        "    # Get the coordinates of the optic disc\n",
        "    od_marked, loc = circle_brightest_part(image)\n",
        "    x = loc[0]\n",
        "    # If the optic disc is on the right side\n",
        "    if x > width // 2:\n",
        "        # Flip the image horizontally\n",
        "        img_save = cv2.flip(img_save, 1)\n",
        "    io.imsave(resized_dst + \"/\" + filename, img_save)\n",
        "print(\"ALL DONE!\")"
      ]
    },
    {
      "cell_type": "code",
      "source": [
        "img_src = \"/content/drive/MyDrive/ARMD_flipped/Aria_ARMD\"\n",
        "resized_dst = \"/content/drive/MyDrive/ARMD_flipped/Aria_ARMD_flipped\"\n",
        "width = 300\n",
        "\n",
        "\n",
        "# Loop through all the files in the source folder\n",
        "for filename in os.listdir(img_src):\n",
        "    #print(filename)\n",
        "\n",
        "    print(f\"Processing {filename} from {img_src}...\")\n",
        "    \n",
        "    # Load the image and convert it to grayscale\n",
        "    image = io.imread(img_src + \"/\" + filename)\n",
        "  \n",
        "\n",
        "    img_save = image.copy()\n",
        "    \n",
        "    # Get the coordinates of the optic disc\n",
        "    od_marked, loc = circle_brightest_part(image)\n",
        "    x = loc[0]\n",
        "    # If the optic disc is on the right side\n",
        "    if x > width // 2:\n",
        "        # Flip the image horizontally\n",
        "        img_save = cv2.flip(img_save, 1)\n",
        "    io.imsave(resized_dst + \"/\" + filename, img_save)\n",
        "print(\"ALL DONE!\")"
      ],
      "metadata": {
        "colab": {
          "base_uri": "https://localhost:8080/"
        },
        "id": "KZMKoWqAT0Zn",
        "outputId": "0c1ba015-1536-49df-aff3-3613d7aa8919"
      },
      "execution_count": 35,
      "outputs": [
        {
          "output_type": "stream",
          "name": "stdout",
          "text": [
            "Processing aria_a_11_6.png from /content/drive/MyDrive/ARMD_flipped/Aria_ARMD...\n",
            "Processing aria_a_10_27.png from /content/drive/MyDrive/ARMD_flipped/Aria_ARMD...\n",
            "Processing aria_a_26_10.png from /content/drive/MyDrive/ARMD_flipped/Aria_ARMD...\n",
            "Processing aria_a_20_6.png from /content/drive/MyDrive/ARMD_flipped/Aria_ARMD...\n",
            "Processing aria_a_11_30.png from /content/drive/MyDrive/ARMD_flipped/Aria_ARMD...\n",
            "Processing aria_a_15_35.png from /content/drive/MyDrive/ARMD_flipped/Aria_ARMD...\n",
            "Processing aria_a_12_34.png from /content/drive/MyDrive/ARMD_flipped/Aria_ARMD...\n",
            "Processing aria_a_13_2.png from /content/drive/MyDrive/ARMD_flipped/Aria_ARMD...\n",
            "Processing aria_a_14_19.png from /content/drive/MyDrive/ARMD_flipped/Aria_ARMD...\n",
            "Processing aria_a_12_15.png from /content/drive/MyDrive/ARMD_flipped/Aria_ARMD...\n",
            "Processing aria_a_13_22.png from /content/drive/MyDrive/ARMD_flipped/Aria_ARMD...\n",
            "Processing aria_a_18_23.png from /content/drive/MyDrive/ARMD_flipped/Aria_ARMD...\n",
            "Processing aria_a_14_11.png from /content/drive/MyDrive/ARMD_flipped/Aria_ARMD...\n",
            "Processing aria_a_39_1.png from /content/drive/MyDrive/ARMD_flipped/Aria_ARMD...\n",
            "Processing aria_a_10_10.png from /content/drive/MyDrive/ARMD_flipped/Aria_ARMD...\n",
            "Processing aria_a_56_1.png from /content/drive/MyDrive/ARMD_flipped/Aria_ARMD...\n",
            "Processing aria_a_43_9.png from /content/drive/MyDrive/ARMD_flipped/Aria_ARMD...\n",
            "Processing aria_a_27_11.png from /content/drive/MyDrive/ARMD_flipped/Aria_ARMD...\n",
            "Processing aria_a_42_1.png from /content/drive/MyDrive/ARMD_flipped/Aria_ARMD...\n",
            "Processing aria_a_34_6.png from /content/drive/MyDrive/ARMD_flipped/Aria_ARMD...\n",
            "Processing aria_a_46_14.png from /content/drive/MyDrive/ARMD_flipped/Aria_ARMD...\n",
            "Processing aria_a_9_43.png from /content/drive/MyDrive/ARMD_flipped/Aria_ARMD...\n",
            "Processing aria_a_5_9.png from /content/drive/MyDrive/ARMD_flipped/Aria_ARMD...\n",
            "ALL DONE!\n"
          ]
        }
      ]
    },
    {
      "cell_type": "markdown",
      "metadata": {
        "id": "0mc9NCJQk-Zi"
      },
      "source": [
        "## Full image -- process:"
      ]
    },
    {
      "cell_type": "code",
      "execution_count": 71,
      "metadata": {
        "colab": {
          "base_uri": "https://localhost:8080/"
        },
        "id": "uCbM0L34k-Zj",
        "outputId": "546eddd7-c2a4-4add-92d0-46ec1e89a1cb"
      },
      "outputs": [
        {
          "output_type": "stream",
          "name": "stderr",
          "text": [
            "100%|██████████| 475/475 [00:03<00:00, 155.62it/s]\n",
            "100%|██████████| 84/84 [00:00<00:00, 407.61it/s]\n"
          ]
        }
      ],
      "source": [
        "data_path = \"/content/drive/MyDrive/ARMD_dataset_all\"\n",
        "data = []\n",
        "labels = []\n",
        "count = 0\n",
        "for img_file in tqdm(os.listdir(data_path)):\n",
        "    img = cv2.imread(os.path.join(data_path, img_file), cv2.IMREAD_GRAYSCALE)\n",
        "    hist = cv2.calcHist([img], [0], None, [256], [0, 256])\n",
        "    hist_norm = cv2.normalize(hist, None, alpha=0, beta=1, norm_type=cv2.NORM_MINMAX)\n",
        "    data.append(hist_norm.flatten())\n",
        "    if img_file[0] == '0':\n",
        "        labels.append(0)\n",
        "        count += 1\n",
        "    else:\n",
        "        labels.append(1)\n",
        "X_train = data\n",
        "X_test = test_data\n",
        "test_data_path = \"/content/drive/MyDrive/Aria_Test_Dataset_Resized\"\n",
        "\n",
        "test_data = []\n",
        "test_labels = []\n",
        "test_count = 0\n",
        "for img_file in tqdm(os.listdir(test_data_path)):\n",
        "    img = cv2.imread(os.path.join(data_path, img_file), cv2.IMREAD_GRAYSCALE)\n",
        "    hist = cv2.calcHist([img], [0], None, [256], [0, 256])\n",
        "    hist_norm = cv2.normalize(hist, None, alpha=0, beta=1, norm_type=cv2.NORM_MINMAX)\n",
        "    test_data.append(hist_norm.flatten())\n",
        "    if img_file[0] == '0':\n",
        "        test_labels.append(0)\n",
        "        test_count += 1\n",
        "    else:\n",
        "        test_labels.append(1)\n",
        "y_test = test_labels\n",
        "y_train = labels\n",
        "X_train = data\n",
        "X_test = test_data\n",
        "\n",
        "#X_train, X_test, y_train, y_test = train_test_split(data, labels, test_size=0.000001, random_state=786)"
      ]
    },
    {
      "cell_type": "code",
      "execution_count": 72,
      "metadata": {
        "colab": {
          "base_uri": "https://localhost:8080/"
        },
        "id": "ICg-E2LYk-Zj",
        "outputId": "b1fe6f0f-feab-472f-9167-59e994f4a326"
      },
      "outputs": [
        {
          "output_type": "stream",
          "name": "stdout",
          "text": [
            "Length of:\n",
            "X_train = 475\n",
            "X_test = 84\n",
            "y_train = 475\n",
            "y_test = 84\n",
            "---No. of Class 0 (ARMD) samples = 261---\n",
            "---No. of Class 1 (Normal) samples = 298---\n"
          ]
        }
      ],
      "source": [
        "print(\"Length of:\")\n",
        "print(f\"X_train = {len(X_train)}\")\n",
        "print(f\"X_test = {len(X_test)}\")\n",
        "print(f\"y_train = {len(y_train)}\")\n",
        "print(f\"y_test = {len(y_test)}\")\n",
        "print(f\"---No. of Class 0 (ARMD) samples = {count + test_count}---\")\n",
        "print(f\"---No. of Class 1 (Normal) samples = {559 - (count+test_count)}---\")"
      ]
    },
    {
      "cell_type": "markdown",
      "metadata": {
        "id": "letrmHp5k-Zk"
      },
      "source": [
        "# Full image -- training:"
      ]
    },
    {
      "cell_type": "code",
      "source": [
        "#Model Metrics\n",
        "import numpy as np\n",
        "import tensorflow as tf\n",
        "from keras import backend as K\n",
        "'''\n",
        "def recall_m(y_true, y_pred):\n",
        "    true_positives = K.sum(K.round(K.clip(y_true * y_pred, 0, 1)))\n",
        "    possible_positives = K.sum(K.round(K.clip(y_true, 0, 1)))\n",
        "    recall = true_positives / (possible_positives + K.epsilon())\n",
        "    return recall\n",
        "\n",
        "def precision_m(y_true, y_pred):\n",
        "    true_positives = K.sum(K.round(K.clip(y_true * y_pred, 0, 1)))\n",
        "    predicted_positives = K.sum(K.round(K.clip(y_pred, 0, 1)))\n",
        "    precision = true_positives / (predicted_positives + K.epsilon())\n",
        "    return precision\n",
        "\n",
        "def f1_m(y_true, y_pred):\n",
        "    precision = precision_m(y_true, y_pred)\n",
        "    recall = recall_m(y_true, y_pred)\n",
        "    return 2*((precision*recall)/(precision+recall+K.epsilon()))\n",
        "'''\n",
        "import numpy as np\n",
        "\n"
      ],
      "metadata": {
        "id": "aQ1p8y0yof-T"
      },
      "execution_count": null,
      "outputs": []
    },
    {
      "cell_type": "code",
      "execution_count": 73,
      "metadata": {
        "colab": {
          "base_uri": "https://localhost:8080/"
        },
        "id": "Cnw9RLcsk-Zk",
        "outputId": "482be5ef-1e57-40ee-e4cc-ab272bc129d8"
      },
      "outputs": [
        {
          "output_type": "stream",
          "name": "stdout",
          "text": [
            "Sensitivity: 1.00\n",
            "Specificity: 0.43\n",
            "Accuracy: 0.85, Precision: 0.82, Recall: 1.00, F1 Score: 0.90\n"
          ]
        }
      ],
      "source": [
        "# Train an SVM classifier on the training set\n",
        "clf = SVC(kernel=\"linear\")\n",
        "clf.fit(X_train, y_train)\n",
        "\n",
        "# Evaluate the classifier on the testing set\n",
        "y_pred = clf.predict(X_test)\n",
        "acc = accuracy_score(y_test, y_pred)\n",
        "prec = precision_score(y_test, y_pred)\n",
        "rec = recall_score(y_test, y_pred)\n",
        "f1 = f1_score(y_test, y_pred) \n",
        "\n",
        "\n",
        "# Calculate the confusion matrix\n",
        "tn, fp, fn, tp = confusion_matrix(y_test, y_pred).ravel()\n",
        "\n",
        "# Calculate sensitivity and specificity\n",
        "sensitivity = tp / (tp + fn)\n",
        "specificity = tn / (tn + fp)\n",
        "\n",
        "print(f\"Sensitivity: {sensitivity:.2f}\")\n",
        "print(f\"Specificity: {specificity:.2f}\")\n",
        "print(f\"Accuracy: {acc:.2f}, Precision: {prec:.2f}, Recall: {rec:.2f}, F1 Score: {f1:.2f}\")\n"
      ]
    },
    {
      "cell_type": "markdown",
      "metadata": {
        "id": "ucnk_VtAk-Zk"
      },
      "source": [
        "## Block-wise processing:"
      ]
    },
    {
      "cell_type": "code",
      "execution_count": 49,
      "metadata": {
        "id": "bYmyhleLk-Zk"
      },
      "outputs": [],
      "source": [
        "'''\n",
        "# Load the dataset and labels\n",
        "data_path = \"/content/drive/MyDrive/ARMD_dataset_all\"\n",
        "left, right, center = [], [], []\n",
        "labels = []\n",
        "radius = 50\n",
        "num_blocks = 3\n",
        "\n",
        "for img_file in os.listdir(data_path):\n",
        "    #print(img_file)\n",
        "    img = io.imread(data_path + \"/\" + img_file)\n",
        "    #cv2.imread(os.path.join(data_path, img_file), cv2.IMREAD_GRAYSCALE)\n",
        "    img_od = img.copy()\n",
        "    \n",
        "    od_marked, loc = circle_brightest_part(img_od)\n",
        "    x, y = loc[0], loc[1]\n",
        "    x1 = int(y - radius) # y-coordinate of the OD - 50\n",
        "    x2 = int(y + radius) # y-coordinate of the OD + 50\n",
        "    middle_strip = img[x1 : x2, :]\n",
        "    \n",
        "    # Convert the image to grayscale\n",
        "    gray = cv2.cvtColor(img, cv2.COLOR_BGR2GRAY)\n",
        "\n",
        "    #vertical strips\n",
        "    blocks = [middle_strip[ : , i * (radius * 2) : (i + 1) * (radius * 2)] for i in range(3)]\n",
        "\n",
        "    for i, block in enumerate(blocks):\n",
        "        hist = cv2.calcHist([block], [0], None, [256], [0, 256])\n",
        "        hist_norm = cv2.normalize(hist, None, alpha=0, beta=1, norm_type=cv2.NORM_MINMAX)\n",
        "        if i == 0:\n",
        "            left.append(hist_norm.flatten())\n",
        "        elif i == 1:\n",
        "            center.append(hist_norm.flatten())\n",
        "        else:\n",
        "            right.append(hist_norm.flatten())\n",
        "\n",
        "    if img_file[0] == '0':\n",
        "        labels.append(0)\n",
        "        \n",
        "    else:\n",
        "        labels.append(1)\n",
        "        \n",
        "data = [left, center, right]\n",
        "data = np.array(data)\n",
        "\n",
        "# Reshape data to have the shape (num_samples, 3*256)\n",
        "data = np.reshape(data, (data.shape[1], -1))\n",
        "\n",
        "\n",
        "# Split the dataset into training and testing sets\n",
        "#X_train, X_test, y_train, y_test = train_test_split(data, labels, test_size=0.2, random_state=786)'''"
      ]
    },
    {
      "cell_type": "code",
      "source": [
        "data_path = \"/content/drive/MyDrive/ARMD_dataset_all\"\n",
        "test_data_path = \"/content/drive/MyDrive/Aria_Test_Dataset_Resized\"\n",
        "left, right, center = [], [], []\n",
        "test_left, test_right, test_center = [], [], []\n",
        "data = []\n",
        "test_data = []\n",
        "\n",
        "labels = []\n",
        "test_labels = []\n",
        "count = 0\n",
        "test_count = 0\n",
        "for img_file in tqdm(os.listdir(data_path)):\n",
        "    img = cv2.imread(os.path.join(data_path, img_file), cv2.IMREAD_UNCHANGED)\n",
        "    #cv2.imread(os.path.join(data_path, img_file), cv2.IMREAD_GRAYSCALE)\n",
        "    img_od = img.copy()\n",
        "    \n",
        "    od_marked, loc = circle_brightest_part(img_od)\n",
        "    x, y = loc[0], loc[1]\n",
        "    x1 = int(y - radius) # y-coordinate of the OD - 50\n",
        "    x2 = int(y + radius) # y-coordinate of the OD + 50\n",
        "    middle_strip = img[x1 : x2, :]\n",
        "    '''\n",
        "    height, width = img.shape\n",
        "    strip_height = height // 3\n",
        "    middle_strip = img[strip_height:2*strip_height, :]\n",
        "    '''\n",
        "    \n",
        "    # Convert the image to grayscale\n",
        "    gray = cv2.cvtColor(img, cv2.COLOR_BGR2GRAY)\n",
        "\n",
        "    #vertical strips\n",
        "    blocks = [middle_strip[ : , i * (radius * 2) : (i + 1) * (radius * 2)] for i in range(3)]\n",
        "\n",
        "    for i, block in enumerate(blocks):\n",
        "        hist = cv2.calcHist([block], [0], None, [256], [0, 256])\n",
        "        hist_norm = cv2.normalize(hist, None, alpha=0, beta=1, norm_type=cv2.NORM_MINMAX)\n",
        "        if i == 0:\n",
        "            left.append(hist_norm.flatten())\n",
        "        elif i == 1:\n",
        "            center.append(hist_norm.flatten())\n",
        "        else:\n",
        "            right.append(hist_norm.flatten())\n",
        "\n",
        "    if img_file[0] == '0':\n",
        "        labels.append(0)\n",
        "        count+=1\n",
        "    else:\n",
        "        labels.append(1)\n",
        "        \n",
        "data = [left, center, right]\n",
        "data = np.array(data)\n",
        "data = np.reshape(data, (data.shape[1], -1))\n",
        "\n",
        "#Test data prep\n",
        "\n",
        "\n",
        "\n",
        "for img_file in tqdm(os.listdir(test_data_path)):\n",
        "\n",
        "    img = cv2.imread(os.path.join(test_data_path, img_file), cv2.IMREAD_UNCHANGED)\n",
        "    img_od = img.copy()\n",
        "    \n",
        "    od_marked, loc = circle_brightest_part(img_od)\n",
        "    x, y = loc[0], loc[1]\n",
        "    x1 = int(y - radius) # y-coordinate of the OD - 50\n",
        "    x2 = int(y + radius) # y-coordinate of the OD + 50\n",
        "    '''\n",
        "    height, width = img.shape\n",
        "    strip_height = height // 3\n",
        "    middle_strip = img[strip_height:2*strip_height, :]\n",
        "    '''\n",
        "    middle_strip = img[x1 : x2, :]\n",
        "    \n",
        "    # Convert the image to grayscale\n",
        "    gray = cv2.cvtColor(img, cv2.COLOR_BGR2GRAY)\n",
        "\n",
        "    #vertical strips\n",
        "    blocks = [middle_strip[ : , i * (radius * 2) : (i + 1) * (radius * 2)] for i in range(3)]\n",
        "\n",
        "    for i, block in enumerate(blocks):\n",
        "        hist = cv2.calcHist([block], [0], None, [256], [0, 256])\n",
        "        hist_norm = cv2.normalize(hist, None, alpha=0, beta=1, norm_type=cv2.NORM_MINMAX)\n",
        "        if i == 0:\n",
        "            test_left.append(hist_norm.flatten())\n",
        "        elif i == 1:\n",
        "            test_center.append(hist_norm.flatten())\n",
        "        else:\n",
        "            test_right.append(hist_norm.flatten())\n",
        "\n",
        "    if img_file[0] == '0':\n",
        "        test_labels.append(0)\n",
        "        test_count+=1\n",
        "    else:\n",
        "        test_labels.append(1)\n",
        "test_data = [test_left, test_center, test_right]\n",
        "test_data = np.array(test_data)\n",
        "test_data = np.reshape(test_data, (test_data.shape[1], -1))\n",
        "\n",
        "y_test = test_labels\n",
        "y_train = labels\n",
        "X_train = data\n",
        "X_test = test_data"
      ],
      "metadata": {
        "colab": {
          "base_uri": "https://localhost:8080/"
        },
        "id": "bq79eVc2c3Vx",
        "outputId": "06c2885d-4849-4d25-e2b5-876d0821f432"
      },
      "execution_count": 87,
      "outputs": [
        {
          "output_type": "stream",
          "name": "stderr",
          "text": [
            "100%|██████████| 475/475 [00:02<00:00, 158.60it/s]\n",
            "100%|██████████| 84/84 [00:00<00:00, 123.13it/s]\n"
          ]
        }
      ]
    },
    {
      "cell_type": "code",
      "execution_count": 88,
      "metadata": {
        "colab": {
          "base_uri": "https://localhost:8080/"
        },
        "id": "yWWDmf7Nk-Zl",
        "outputId": "14e137c9-606d-418d-9feb-1f446fa68fe9"
      },
      "outputs": [
        {
          "output_type": "stream",
          "name": "stdout",
          "text": [
            "Length of:\n",
            "X_train = 475\n",
            "X_test = 84\n",
            "y_train = 475\n",
            "y_test = 84\n"
          ]
        }
      ],
      "source": [
        "print(\"Length of:\")\n",
        "print(f\"X_train = {len(X_train)}\")\n",
        "print(f\"X_test = {len(X_test)}\")\n",
        "print(f\"y_train = {len(y_train)}\")\n",
        "print(f\"y_test = {len(y_test)}\")"
      ]
    },
    {
      "cell_type": "code",
      "execution_count": 89,
      "metadata": {
        "colab": {
          "base_uri": "https://localhost:8080/",
          "height": 296
        },
        "id": "l3uY_cpak-Zl",
        "outputId": "c4059a7c-5681-4e18-aaa5-73323097582f"
      },
      "outputs": [
        {
          "output_type": "stream",
          "name": "stderr",
          "text": [
            "  0%|          | 0/475 [00:00<?, ?it/s]\n"
          ]
        },
        {
          "output_type": "execute_result",
          "data": {
            "text/plain": [
              "<matplotlib.image.AxesImage at 0x7fecd9beef40>"
            ]
          },
          "metadata": {},
          "execution_count": 89
        },
        {
          "output_type": "display_data",
          "data": {
            "text/plain": [
              "<Figure size 432x288 with 1 Axes>"
            ],
            "image/png": "[encoded data removed]"
          },
          "metadata": {
            "needs_background": "light"
          }
        }
      ],
      "source": [
        "for img_file in tqdm(os.listdir(data_path)):\n",
        "    img = io.imread(data_path + \"/\" + img_file)\n",
        "    #cv2.imread(os.path.join(data_path, img_file), cv2.IMREAD_GRAYSCALE)\n",
        "    img_od = img.copy()\n",
        "    \n",
        "    od_marked, loc = circle_brightest_part(img_od)\n",
        "    x, y = loc[0], loc[1]\n",
        "    radius = 50\n",
        "    x1 = int(y - radius) # y-coordinate of the OD - 50\n",
        "    x2 = int(y + radius) # y-coordinate of the OD + 50\n",
        "    middle_strip = img[x1 : x2, :]\n",
        "    blocks = [middle_strip[ : , i * (radius * 2) : (i + 1) * (radius * 2)] for i in range(3)]\n",
        "\n",
        "    break\n",
        "io.imshow(blocks[0])"
      ]
    },
    {
      "cell_type": "code",
      "execution_count": 90,
      "metadata": {
        "colab": {
          "base_uri": "https://localhost:8080/",
          "height": 278
        },
        "id": "xj1BV6uhk-Zl",
        "outputId": "dfa78c73-314e-4b16-9457-7fd806b4dfb1"
      },
      "outputs": [
        {
          "output_type": "execute_result",
          "data": {
            "text/plain": [
              "<matplotlib.image.AxesImage at 0x7fed18fd6790>"
            ]
          },
          "metadata": {},
          "execution_count": 90
        },
        {
          "output_type": "display_data",
          "data": {
            "text/plain": [
              "<Figure size 432x288 with 1 Axes>"
            ],
            "image/png": "[encoded data removed]"
          },
          "metadata": {
            "needs_background": "light"
          }
        }
      ],
      "source": [
        "io.imshow(blocks[1])"
      ]
    },
    {
      "cell_type": "code",
      "execution_count": 91,
      "metadata": {
        "colab": {
          "base_uri": "https://localhost:8080/",
          "height": 278
        },
        "id": "bNiXkDftk-Zm",
        "outputId": "458556ac-26cf-4c07-9514-f905fdedcc5c"
      },
      "outputs": [
        {
          "output_type": "execute_result",
          "data": {
            "text/plain": [
              "<matplotlib.image.AxesImage at 0x7fed18f46e80>"
            ]
          },
          "metadata": {},
          "execution_count": 91
        },
        {
          "output_type": "display_data",
          "data": {
            "text/plain": [
              "<Figure size 432x288 with 1 Axes>"
            ],
            "image/png": "[encoded data removed]"
          },
          "metadata": {
            "needs_background": "light"
          }
        }
      ],
      "source": [
        "io.imshow(blocks[2])"
      ]
    },
    {
      "cell_type": "markdown",
      "metadata": {
        "id": "2Zzeph3Qk-Zm"
      },
      "source": [
        "# Blocks - Left, Right, Center"
      ]
    },
    {
      "cell_type": "code",
      "execution_count": 92,
      "metadata": {
        "colab": {
          "base_uri": "https://localhost:8080/"
        },
        "id": "cjgNybQek-Zm",
        "outputId": "0c35fda2-8bf7-4df6-c484-a98e51fe0a47"
      },
      "outputs": [
        {
          "output_type": "stream",
          "name": "stdout",
          "text": [
            "Sensitivity: 0.21\n",
            "Specificity: 0.74\n",
            "Accuracy: 0.36, Precision: 0.68, Recall: 0.21, F1 Score: 0.33\n"
          ]
        }
      ],
      "source": [
        "# Train an SVM classifier on the training set\n",
        "clf = SVC(kernel=\"linear\")\n",
        "clf.fit(X_train, y_train)\n",
        "\n",
        "# Evaluate the classifier on the testing set\n",
        "y_pred = clf.predict(X_test)\n",
        "acc = accuracy_score(y_test, y_pred)\n",
        "prec = precision_score(y_test, y_pred)\n",
        "rec = recall_score(y_test, y_pred)\n",
        "f1 = f1_score(y_test, y_pred)\n",
        "\n",
        "# Calculate the confusion matrix\n",
        "tn, fp, fn, tp = confusion_matrix(y_test, y_pred).ravel()\n",
        "\n",
        "# Calculate sensitivity and specificity\n",
        "sensitivity = tp / (tp + fn)\n",
        "specificity = tn / (tn + fp)\n",
        "\n",
        "print(f\"Sensitivity: {sensitivity:.2f}\")\n",
        "print(f\"Specificity: {specificity:.2f}\")\n",
        "print(f\"Accuracy: {acc:.2f}, Precision: {prec:.2f}, Recall: {rec:.2f}, F1 Score: {f1:.2f}\")"
      ]
    },
    {
      "cell_type": "markdown",
      "metadata": {
        "id": "YQll3zEpk-Zm"
      },
      "source": [
        "# Middle Strip:"
      ]
    },
    {
      "cell_type": "code",
      "execution_count": 95,
      "metadata": {
        "colab": {
          "base_uri": "https://localhost:8080/"
        },
        "id": "DJBa3h7ik-Zm",
        "outputId": "959fbee1-e92d-47ba-ed89-c5eddcb66c2b"
      },
      "outputs": [
        {
          "output_type": "stream",
          "name": "stderr",
          "text": [
            "100%|██████████| 475/475 [00:03<00:00, 139.44it/s]\n",
            "100%|██████████| 84/84 [00:00<00:00, 106.71it/s]\n"
          ]
        }
      ],
      "source": [
        "# Load the dataset and labels\n",
        "data_path = \"/content/drive/MyDrive/ARMD_dataset_all\"\n",
        "test_data_path = \"/content/drive/MyDrive/Aria_Test_Dataset_Resized\"\n",
        "data = []\n",
        "test_data = []\n",
        "labels = []\n",
        "test_labels = []\n",
        "radius = 50\n",
        "num_blocks = 3\n",
        "\n",
        "for img_file in tqdm(os.listdir(data_path)):\n",
        "    img = io.imread(data_path + \"/\" + img_file)\n",
        "    #cv2.imread(os.path.join(data_path, img_file), cv2.IMREAD_GRAYSCALE)\n",
        "    img_od = img.copy()\n",
        "    \n",
        "    od_marked, loc = circle_brightest_part(img_od)\n",
        "    x, y = loc[0], loc[1]\n",
        "    x1 = int(y - radius) # y-coordinate of the OD - 50\n",
        "    x2 = int(y + radius) # y-coordinate of the OD + 50\n",
        "    middle_strip = img[x1 : x2, :]\n",
        "    \n",
        "    hist = cv2.calcHist([middle_strip], [0], None, [256], [0, 256])\n",
        "    hist_norm = cv2.normalize(hist, None, alpha=0, beta=1, norm_type=cv2.NORM_MINMAX)\n",
        "    data.append(hist_norm.flatten())\n",
        "    if img_file[0] == '0':\n",
        "        labels.append(0)\n",
        "    else:\n",
        "        labels.append(1)\n",
        "\n",
        "#test_data\n",
        "\n",
        "for img_file in tqdm(os.listdir(test_data_path)):\n",
        "    img = io.imread(test_data_path + \"/\" + img_file)\n",
        "    #cv2.imread(os.path.join(data_path, img_file), cv2.IMREAD_GRAYSCALE)\n",
        "    img_od = img.copy()\n",
        "    \n",
        "    od_marked, loc = circle_brightest_part(img_od)\n",
        "    x, y = loc[0], loc[1]\n",
        "    x1 = int(y - radius) # y-coordinate of the OD - 50\n",
        "    x2 = int(y + radius) # y-coordinate of the OD + 50\n",
        "    middle_strip = img[x1 : x2, :]\n",
        "    \n",
        "    hist = cv2.calcHist([middle_strip], [0], None, [256], [0, 256])\n",
        "    hist_norm = cv2.normalize(hist, None, alpha=0, beta=1, norm_type=cv2.NORM_MINMAX)\n",
        "    test_data.append(hist_norm.flatten())\n",
        "    if img_file[0] == '0':\n",
        "        test_labels.append(0)\n",
        "    else:\n",
        "        test_labels.append(1)\n",
        "\n",
        "y_test = test_labels\n",
        "y_train = labels\n",
        "X_train = data\n",
        "X_test = test_data\n",
        "\n",
        "\n",
        "\n",
        "# Split the dataset into training and testing sets\n",
        "#X_train, X_test, y_train, y_test = train_test_split(data, labels, test_size=0.2, random_state=786)"
      ]
    },
    {
      "cell_type": "code",
      "execution_count": 96,
      "metadata": {
        "colab": {
          "base_uri": "https://localhost:8080/"
        },
        "id": "F2mHFmFYk-Zn",
        "outputId": "8b70e5bc-b7c0-4267-b1c6-e8431b6afebe"
      },
      "outputs": [
        {
          "output_type": "stream",
          "name": "stdout",
          "text": [
            "Length of:\n",
            "X_train = 475\n",
            "X_test = 84\n",
            "y_train = 475\n",
            "y_test = 84\n"
          ]
        }
      ],
      "source": [
        "print(\"Length of:\")\n",
        "print(f\"X_train = {len(X_train)}\")\n",
        "print(f\"X_test = {len(X_test)}\")\n",
        "print(f\"y_train = {len(y_train)}\")\n",
        "print(f\"y_test = {len(y_test)}\")"
      ]
    },
    {
      "cell_type": "code",
      "execution_count": 97,
      "metadata": {
        "colab": {
          "base_uri": "https://localhost:8080/"
        },
        "id": "SpNms4zlk-Zn",
        "outputId": "43f50c42-01cf-4473-8d59-f68a657c57b6"
      },
      "outputs": [
        {
          "output_type": "stream",
          "name": "stdout",
          "text": [
            "Sensitivity: 0.46\n",
            "Specificity: 0.52\n",
            "Accuracy: 0.48, Precision: 0.72, Recall: 0.46, F1 Score: 0.56\n"
          ]
        }
      ],
      "source": [
        "# Train an SVM classifier on the training set\n",
        "clf = SVC(kernel=\"linear\")\n",
        "clf.fit(X_train, y_train)\n",
        "\n",
        "# Evaluate the classifier on the testing set\n",
        "y_pred = clf.predict(X_test)\n",
        "acc = accuracy_score(y_test, y_pred)\n",
        "prec = precision_score(y_test, y_pred)\n",
        "rec = recall_score(y_test, y_pred)\n",
        "f1 = f1_score(y_test, y_pred)\n",
        "\n",
        "# Calculate the confusion matrix\n",
        "tn, fp, fn, tp = confusion_matrix(y_test, y_pred).ravel()\n",
        "\n",
        "# Calculate sensitivity and specificity\n",
        "sensitivity = tp / (tp + fn)\n",
        "specificity = tn / (tn + fp)\n",
        "\n",
        "print(f\"Sensitivity: {sensitivity:.2f}\")\n",
        "print(f\"Specificity: {specificity:.2f}\")\n",
        "print(f\"Accuracy: {acc:.2f}, Precision: {prec:.2f}, Recall: {rec:.2f}, F1 Score: {f1:.2f}\")"
      ]
    },
    {
      "cell_type": "markdown",
      "metadata": {
        "id": "VoICnZPpk-Zn"
      },
      "source": [
        "# Parts of blocks"
      ]
    },
    {
      "cell_type": "code",
      "execution_count": 112,
      "metadata": {
        "colab": {
          "base_uri": "https://localhost:8080/"
        },
        "id": "nH3YeEq6k-Zn",
        "outputId": "4bc2fab9-e381-41e0-d79d-344c5b97c39e"
      },
      "outputs": [
        {
          "output_type": "stream",
          "name": "stderr",
          "text": [
            "100%|██████████| 475/475 [00:03<00:00, 121.25it/s]\n",
            "100%|██████████| 84/84 [00:00<00:00, 107.54it/s]\n"
          ]
        }
      ],
      "source": [
        "# Load the dataset and labels\n",
        "data_path = \"/content/drive/MyDrive/ARMD_dataset_all\"\n",
        "test_data_path = \"/content/drive/MyDrive/Aria_Test_Dataset_Resized\"\n",
        "left, right, center = [], [], []\n",
        "test_left, test_right, test_center = [], [], []\n",
        "\n",
        "labels = []\n",
        "test_labels = []\n",
        "radius = 50\n",
        "num_blocks = 3\n",
        "\n",
        "for img_file in tqdm(os.listdir(data_path)):\n",
        "    img = io.imread(data_path + \"/\" + img_file)\n",
        "    #cv2.imread(os.path.join(data_path, img_file), cv2.IMREAD_GRAYSCALE)\n",
        "    img_od = img.copy()\n",
        "    \n",
        "    od_marked, loc = circle_brightest_part(img_od)\n",
        "    x, y = loc[0], loc[1]\n",
        "    x1 = int(y - radius) # y-coordinate of the OD - 50\n",
        "    x2 = int(y + radius) # y-coordinate of the OD + 50\n",
        "    middle_strip = img[x1 : x2, :]\n",
        "    \n",
        "    # Convert the image to grayscale\n",
        "    gray = cv2.cvtColor(img, cv2.COLOR_BGR2GRAY)\n",
        "\n",
        "    #vertical strips\n",
        "    blocks = [middle_strip[ : , i * (radius * 2) : (i + 1) * (radius * 2)] for i in range(3)]\n",
        "\n",
        "    for i, block in enumerate(blocks):\n",
        "        hist = cv2.calcHist([block], [0], None, [256], [0, 256])\n",
        "        hist_norm = cv2.normalize(hist, None, alpha=0, beta=1, norm_type=cv2.NORM_MINMAX)\n",
        "        if i == 0:\n",
        "            left.append(hist_norm.flatten())\n",
        "        elif i == 1:\n",
        "            center.append(hist_norm.flatten())\n",
        "        else:\n",
        "            right.append(hist_norm.flatten())\n",
        "\n",
        "    if img_file[0] == '0':\n",
        "        labels.append(0)\n",
        "    else:\n",
        "        labels.append(1)\n",
        "        \n",
        "data = [left, center, right]\n",
        "data = np.array(data)\n",
        "\n",
        "#test_data\n",
        "\n",
        "\n",
        "for img_file in tqdm(os.listdir(test_data_path)):\n",
        "    img = io.imread(test_data_path + \"/\" + img_file)\n",
        "    #cv2.imread(os.path.join(data_path, img_file), cv2.IMREAD_GRAYSCALE)\n",
        "    img_od = img.copy()\n",
        "    \n",
        "    od_marked, loc = circle_brightest_part(img_od)\n",
        "    x, y = loc[0], loc[1]\n",
        "    x1 = int(y - radius) # y-coordinate of the OD - 50\n",
        "    x2 = int(y + radius) # y-coordinate of the OD + 50\n",
        "    middle_strip = img[x1 : x2, :]\n",
        "    \n",
        "    # Convert the image to grayscale\n",
        "    gray = cv2.cvtColor(img, cv2.COLOR_BGR2GRAY)\n",
        "\n",
        "    #vertical strips\n",
        "    blocks = [middle_strip[ : , i * (radius * 2) : (i + 1) * (radius * 2)] for i in range(3)]\n",
        "\n",
        "    for i, block in enumerate(blocks):\n",
        "        hist = cv2.calcHist([block], [0], None, [256], [0, 256])\n",
        "        hist_norm = cv2.normalize(hist, None, alpha=0, beta=1, norm_type=cv2.NORM_MINMAX)\n",
        "        if i == 0:\n",
        "            test_left.append(hist_norm.flatten())\n",
        "        elif i == 1:\n",
        "            test_center.append(hist_norm.flatten())\n",
        "        else:\n",
        "            test_right.append(hist_norm.flatten())\n",
        "\n",
        "    if img_file[0] == '0':\n",
        "        test_labels.append(0)\n",
        "    else:\n",
        "        test_labels.append(1)\n",
        "        \n",
        "test_data = [test_left, test_center, test_right]\n",
        "test_data = np.array(test_data)"
      ]
    },
    {
      "cell_type": "code",
      "execution_count": 113,
      "metadata": {
        "id": "7vXQZxxtk-Zo"
      },
      "outputs": [],
      "source": [
        "data_left = data[0]\n",
        "data_center = data[1]\n",
        "data_right = data[2]\n",
        "\n",
        "data_left_center = list()\n",
        "data_left_center.append(data[0])\n",
        "data_left_center.append(data[1])\n",
        "\n",
        "data_left_right = list()\n",
        "data_left_right.append(data[0])\n",
        "data_left_right.append(data[2])\n",
        "\n",
        "data_center_right = list()\n",
        "data_center_right.append(data[1])\n",
        "data_center_right.append(data[2])\n",
        "\n",
        "\n",
        "#test\n",
        "\n",
        "test_data_left = test_data[0]\n",
        "test_data_center = test_data[1]\n",
        "test_data_right = test_data[2]\n",
        "\n",
        "test_data_left_center = list()\n",
        "test_data_left_center.append(test_data[0])\n",
        "test_data_left_center.append(test_data[1])\n",
        "\n",
        "test_data_left_right = list()\n",
        "test_data_left_right.append(test_data[0])\n",
        "test_data_left_right.append(test_data[2])\n",
        "\n",
        "test_data_center_right = list()\n",
        "test_data_center_right.append(test_data[1])\n",
        "test_data_center_right.append(test_data[2])"
      ]
    },
    {
      "cell_type": "markdown",
      "metadata": {
        "id": "_xLFh0I3k-Zo"
      },
      "source": [
        "# Left:"
      ]
    },
    {
      "cell_type": "code",
      "execution_count": 114,
      "metadata": {
        "colab": {
          "base_uri": "https://localhost:8080/"
        },
        "id": "scfz26eqk-Zo",
        "outputId": "543efc25-6c5b-4b00-94d0-3f1844067351"
      },
      "outputs": [
        {
          "output_type": "stream",
          "name": "stdout",
          "text": [
            "Sensitivity: 0.59\n",
            "Specificity: 0.39\n",
            "Accuracy: 0.54, Precision: 0.72, Recall: 0.59, F1 Score: 0.65\n"
          ]
        }
      ],
      "source": [
        "# Reshape data to have the shape (num_samples, 3*256)\n",
        "#data_left = np.reshape(data_left, (data_left.shape[1], -1))\n",
        "\n",
        "# Split the dataset into training and testing sets\n",
        "#X_train, X_test, y_train, y_test = train_test_split(data_left, labels, test_size=0.2, random_state=786)\n",
        "\n",
        "y_test = test_labels\n",
        "y_train = labels\n",
        "X_train = data_left\n",
        "X_test = test_data_left\n",
        "\n",
        "# Train an SVM classifier on the training set\n",
        "clf = SVC(kernel=\"linear\")\n",
        "clf.fit(X_train, y_train)\n",
        "\n",
        "# Evaluate the classifier on the testing set\n",
        "y_pred = clf.predict(X_test)\n",
        "acc = accuracy_score(y_test, y_pred)\n",
        "prec = precision_score(y_test, y_pred)\n",
        "rec = recall_score(y_test, y_pred)\n",
        "f1 = f1_score(y_test, y_pred)\n",
        "# Calculate the confusion matrix\n",
        "tn, fp, fn, tp = confusion_matrix(y_test, y_pred).ravel()\n",
        "\n",
        "# Calculate sensitivity and specificity\n",
        "sensitivity = tp / (tp + fn)\n",
        "specificity = tn / (tn + fp)\n",
        "\n",
        "print(f\"Sensitivity: {sensitivity:.2f}\")\n",
        "print(f\"Specificity: {specificity:.2f}\")\n",
        "print(f\"Accuracy: {acc:.2f}, Precision: {prec:.2f}, Recall: {rec:.2f}, F1 Score: {f1:.2f}\") \n"
      ]
    },
    {
      "cell_type": "markdown",
      "metadata": {
        "id": "Qsb_A7J4k-Zo"
      },
      "source": [
        "# Center:"
      ]
    },
    {
      "cell_type": "code",
      "execution_count": 115,
      "metadata": {
        "colab": {
          "base_uri": "https://localhost:8080/"
        },
        "id": "CHThhzHpk-Zo",
        "outputId": "a8fa392f-7d8c-4a2a-f652-8bcf5d706995"
      },
      "outputs": [
        {
          "output_type": "stream",
          "name": "stdout",
          "text": [
            "Sensitivity: 0.20\n",
            "Specificity: 0.78\n",
            "Accuracy: 0.36, Precision: 0.71, Recall: 0.20, F1 Score: 0.31\n"
          ]
        }
      ],
      "source": [
        "# Split the dataset into training and testing sets\n",
        "#X_train, X_test, y_train, y_test = train_test_split(data_center, labels, test_size=0.2, random_state=786)\n",
        "\n",
        "y_test = test_labels\n",
        "y_train = labels\n",
        "X_train = data_center\n",
        "X_test = test_data_center\n",
        "# Train an SVM classifier on the training set\n",
        "clf = SVC(kernel=\"linear\")\n",
        "clf.fit(X_train, y_train)\n",
        "\n",
        "# Evaluate the classifier on the testing set\n",
        "y_pred = clf.predict(X_test)\n",
        "acc = accuracy_score(y_test, y_pred)\n",
        "prec = precision_score(y_test, y_pred)\n",
        "rec = recall_score(y_test, y_pred)\n",
        "f1 = f1_score(y_test, y_pred)\n",
        "# Calculate the confusion matrix\n",
        "tn, fp, fn, tp = confusion_matrix(y_test, y_pred).ravel()\n",
        "\n",
        "# Calculate sensitivity and specificity\n",
        "sensitivity = tp / (tp + fn)\n",
        "specificity = tn / (tn + fp)\n",
        "\n",
        "print(f\"Sensitivity: {sensitivity:.2f}\")\n",
        "print(f\"Specificity: {specificity:.2f}\")\n",
        "print(f\"Accuracy: {acc:.2f}, Precision: {prec:.2f}, Recall: {rec:.2f}, F1 Score: {f1:.2f}\")"
      ]
    },
    {
      "cell_type": "markdown",
      "metadata": {
        "id": "nUK7nIC_k-Zo"
      },
      "source": [
        "# Right:"
      ]
    },
    {
      "cell_type": "code",
      "execution_count": 116,
      "metadata": {
        "colab": {
          "base_uri": "https://localhost:8080/"
        },
        "id": "dKa1ZLATk-Zp",
        "outputId": "f141a7f0-5771-4d0a-ab26-fd786fc10277"
      },
      "outputs": [
        {
          "output_type": "stream",
          "name": "stdout",
          "text": [
            "Sensitivity: 0.48\n",
            "Specificity: 0.17\n",
            "Accuracy: 0.39, Precision: 0.60, Recall: 0.48, F1 Score: 0.53\n"
          ]
        }
      ],
      "source": [
        "# Split the dataset into training and testing sets\n",
        "#X_train, X_test, y_train, y_test = train_test_split(data_right, labels, test_size=0.2, random_state=786)\n",
        "y_test = test_labels\n",
        "y_train = labels\n",
        "X_train = data_right\n",
        "X_test = test_data_right\n",
        "# Train an SVM classifier on the training set\n",
        "clf = SVC(kernel=\"linear\")\n",
        "clf.fit(X_train, y_train)\n",
        "\n",
        "# Evaluate the classifier on the testing set\n",
        "y_pred = clf.predict(X_test)\n",
        "acc = accuracy_score(y_test, y_pred)\n",
        "prec = precision_score(y_test, y_pred)\n",
        "rec = recall_score(y_test, y_pred)\n",
        "f1 = f1_score(y_test, y_pred)\n",
        "# Calculate the confusion matrix\n",
        "tn, fp, fn, tp = confusion_matrix(y_test, y_pred).ravel()\n",
        "\n",
        "# Calculate sensitivity and specificity\n",
        "sensitivity = tp / (tp + fn)\n",
        "specificity = tn / (tn + fp)\n",
        "\n",
        "print(f\"Sensitivity: {sensitivity:.2f}\")\n",
        "print(f\"Specificity: {specificity:.2f}\")\n",
        "print(f\"Accuracy: {acc:.2f}, Precision: {prec:.2f}, Recall: {rec:.2f}, F1 Score: {f1:.2f}\")"
      ]
    },
    {
      "cell_type": "markdown",
      "metadata": {
        "id": "eY3LZl2ak-Zp"
      },
      "source": [
        "# Left-center:"
      ]
    },
    {
      "cell_type": "code",
      "execution_count": 117,
      "metadata": {
        "colab": {
          "base_uri": "https://localhost:8080/"
        },
        "id": "f_iuqqJLk-Zp",
        "outputId": "4951177d-4e47-47bd-f224-a40198b2eba4"
      },
      "outputs": [
        {
          "output_type": "stream",
          "name": "stdout",
          "text": [
            "Sensitivity: 0.48\n",
            "Specificity: 0.22\n",
            "Accuracy: 0.40, Precision: 0.62, Recall: 0.48, F1 Score: 0.54\n"
          ]
        }
      ],
      "source": [
        "# Reshape data to have the shape (num_samples, 3*256)\n",
        "data_left_center = np.array(data_left_center)\n",
        "data_left_center = np.reshape(data_left_center, (data_left_center.shape[1], -1))\n",
        "\n",
        "test_data_left_center = np.array(test_data_left_center)\n",
        "test_data_left_center = np.reshape(test_data_left_center, (test_data_left_center.shape[1], -1))\n",
        "\n",
        "# Split the dataset into training and testing sets\n",
        "#X_train, X_test, y_train, y_test = train_test_split(data_left_center, labels, test_size=0.2, random_state=786)\n",
        "y_test = test_labels\n",
        "y_train = labels\n",
        "X_train = data_left_center\n",
        "X_test = test_data_left_center\n",
        "# Train an SVM classifier on the training set\n",
        "clf = SVC(kernel=\"linear\")\n",
        "clf.fit(X_train, y_train)\n",
        "# Evaluate the classifier on the testing set\n",
        "y_pred = clf.predict(X_test)\n",
        "acc = accuracy_score(y_test, y_pred)\n",
        "prec = precision_score(y_test, y_pred)\n",
        "rec = recall_score(y_test, y_pred)\n",
        "f1 = f1_score(y_test, y_pred)\n",
        "# Calculate the confusion matrix\n",
        "tn, fp, fn, tp = confusion_matrix(y_test, y_pred).ravel()\n",
        "# Calculate sensitivity and specificity\n",
        "sensitivity = tp / (tp + fn)\n",
        "specificity = tn / (tn + fp)\n",
        "print(f\"Sensitivity: {sensitivity:.2f}\")\n",
        "print(f\"Specificity: {specificity:.2f}\")\n",
        "print(f\"Accuracy: {acc:.2f}, Precision: {prec:.2f}, Recall: {rec:.2f}, F1 Score: {f1:.2f}\")"
      ]
    },
    {
      "cell_type": "code",
      "execution_count": null,
      "metadata": {
        "id": "gWdg0rMDk-Zp",
        "outputId": "dca5a85c-0189-4f48-dfd5-036c816e7dbc"
      },
      "outputs": [
        {
          "data": {
            "text/plain": [
              "[[1, 2, 3], [1, 2, 3]]"
            ]
          },
          "execution_count": 105,
          "metadata": {},
          "output_type": "execute_result"
        }
      ],
      "source": [
        "x = list()\n",
        "x.append([1,2,3])\n",
        "x.append([1,2,3])\n",
        "x"
      ]
    },
    {
      "cell_type": "markdown",
      "metadata": {
        "id": "zgi485gdk-Zp"
      },
      "source": [
        "# Left-right:"
      ]
    },
    {
      "cell_type": "code",
      "execution_count": 118,
      "metadata": {
        "id": "AR-ZvPjUk-Zp",
        "outputId": "55ef862d-aca0-476b-e43d-ea4ec69d9b14",
        "colab": {
          "base_uri": "https://localhost:8080/"
        }
      },
      "outputs": [
        {
          "output_type": "stream",
          "name": "stdout",
          "text": [
            "Sensitivity: 0.54\n",
            "Specificity: 0.35\n",
            "Accuracy: 0.49, Precision: 0.69, Recall: 0.54, F1 Score: 0.61\n"
          ]
        }
      ],
      "source": [
        "# Reshape data to have the shape (num_samples, 3*256)\n",
        "data_left_right = np.array(data_left_right)\n",
        "data_left_right = np.reshape(data_left_right, (data_left_right.shape[1], -1))\n",
        "\n",
        "test_data_left_right = np.array(test_data_left_right)\n",
        "test_data_left_right = np.reshape(test_data_left_right, (test_data_left_right.shape[1], -1))\n",
        "\n",
        "# Split the dataset into training and testing sets\n",
        "#X_train, X_test, y_train, y_test = train_test_split(data_left_right, labels, test_size=0.2, random_state=786)\n",
        "\n",
        "y_test = test_labels\n",
        "y_train = labels\n",
        "X_train = data_left_right\n",
        "X_test = test_data_left_right\n",
        "# Train an SVM classifier on the training set\n",
        "clf = SVC(kernel=\"linear\")\n",
        "clf.fit(X_train, y_train)\n",
        "\n",
        "# Evaluate the classifier on the testing set\n",
        "y_pred = clf.predict(X_test)\n",
        "acc = accuracy_score(y_test, y_pred)\n",
        "prec = precision_score(y_test, y_pred)\n",
        "rec = recall_score(y_test, y_pred)\n",
        "f1 = f1_score(y_test, y_pred)\n",
        "# Calculate the confusion matrix\n",
        "tn, fp, fn, tp = confusion_matrix(y_test, y_pred).ravel()\n",
        "\n",
        "# Calculate sensitivity and specificity\n",
        "sensitivity = tp / (tp + fn)\n",
        "specificity = tn / (tn + fp)\n",
        "\n",
        "print(f\"Sensitivity: {sensitivity:.2f}\")\n",
        "print(f\"Specificity: {specificity:.2f}\")\n",
        "print(f\"Accuracy: {acc:.2f}, Precision: {prec:.2f}, Recall: {rec:.2f}, F1 Score: {f1:.2f}\")"
      ]
    },
    {
      "cell_type": "markdown",
      "metadata": {
        "id": "7ze4UrASk-Zq"
      },
      "source": [
        "# Center-right:"
      ]
    },
    {
      "cell_type": "code",
      "execution_count": 119,
      "metadata": {
        "colab": {
          "base_uri": "https://localhost:8080/"
        },
        "id": "VYdKChSGk-Zq",
        "outputId": "8cdaae85-55fc-4733-86d4-35c922f60705"
      },
      "outputs": [
        {
          "output_type": "stream",
          "name": "stdout",
          "text": [
            "Sensitivity: 0.51\n",
            "Specificity: 0.39\n",
            "Accuracy: 0.48, Precision: 0.69, Recall: 0.51, F1 Score: 0.58\n"
          ]
        }
      ],
      "source": [
        "# Reshape data to have the shape (num_samples, 3*256)\n",
        "data_center_right = np.array(data_center_right)\n",
        "data_center_right = np.reshape(data_center_right, (data_center_right.shape[1], -1))\n",
        "\n",
        "test_data_center_right = np.array(test_data_center_right)\n",
        "test_data_center_right = np.reshape(test_data_center_right, (test_data_center_right.shape[1], -1))\n",
        "# Split the dataset into training and testing sets\n",
        "#X_train, X_test, y_train, y_test = train_test_split(data_center_right, labels, test_size=0.2, random_state=786)\n",
        "y_test = test_labels\n",
        "y_train = labels\n",
        "X_train = data_center_right\n",
        "X_test = test_data_center_right\n",
        "# Train an SVM classifier on the training set\n",
        "clf = SVC(kernel=\"linear\")\n",
        "clf.fit(X_train, y_train)\n",
        "\n",
        "# Evaluate the classifier on the testing set\n",
        "y_pred = clf.predict(X_test)\n",
        "acc = accuracy_score(y_test, y_pred)\n",
        "prec = precision_score(y_test, y_pred)\n",
        "rec = recall_score(y_test, y_pred)\n",
        "f1 = f1_score(y_test, y_pred)\n",
        "# Calculate the confusion matrix\n",
        "tn, fp, fn, tp = confusion_matrix(y_test, y_pred).ravel()\n",
        "\n",
        "# Calculate sensitivity and specificity\n",
        "sensitivity = tp / (tp + fn)\n",
        "specificity = tn / (tn + fp)\n",
        "\n",
        "print(f\"Sensitivity: {sensitivity:.2f}\")\n",
        "print(f\"Specificity: {specificity:.2f}\")\n",
        "print(f\"Accuracy: {acc:.2f}, Precision: {prec:.2f}, Recall: {rec:.2f}, F1 Score: {f1:.2f}\")"
      ]
    },
    {
      "cell_type": "code",
      "execution_count": 120,
      "metadata": {
        "id": "30diR0wfk-Zq"
      },
      "outputs": [],
      "source": [
        "index = ['Left', 'Center', 'Right', 'Left-Center', 'Left-Right', 'Center-Right', 'Left-Center-Right', 'Middle-strip', 'Full-Image']"
      ]
    },
    {
      "cell_type": "code",
      "execution_count": 121,
      "metadata": {
        "id": "M_hdmfT1k-Zq"
      },
      "outputs": [],
      "source": [
        "accu = []\n",
        "pre = []\n",
        "recall = []\n",
        "f1_ = []"
      ]
    },
    {
      "cell_type": "code",
      "execution_count": 122,
      "metadata": {
        "id": "Ifz0Pdlck-Zq"
      },
      "outputs": [],
      "source": [
        "accu.append(0.90)\n",
        "pre.append(0.89)\n",
        "recall.append(0.81)\n",
        "f1_.append(0.85)"
      ]
    },
    {
      "cell_type": "code",
      "execution_count": 123,
      "metadata": {
        "id": "IN_Nroe0k-Zq"
      },
      "outputs": [],
      "source": [
        "result = {'Accuracy' : accu,\n",
        "         'Precision' : pre,\n",
        "         'Recall' : recall,\n",
        "         'F1-score' : f1_}"
      ]
    },
    {
      "cell_type": "code",
      "execution_count": 124,
      "metadata": {
        "id": "lI6X7wyhk-Zr"
      },
      "outputs": [],
      "source": [
        "import pandas as pd\n",
        "result_df = pd.DataFrame(result)"
      ]
    },
    {
      "cell_type": "code",
      "execution_count": 125,
      "metadata": {
        "colab": {
          "base_uri": "https://localhost:8080/",
          "height": 312
        },
        "id": "JKYikEBQk-Zr",
        "outputId": "d21350fb-c82c-4a6e-bc50-f94033bb50af"
      },
      "outputs": [
        {
          "output_type": "error",
          "ename": "ValueError",
          "evalue": "ignored",
          "traceback": [
            "\u001b[0;31m---------------------------------------------------------------------------\u001b[0m",
            "\u001b[0;31mValueError\u001b[0m                                Traceback (most recent call last)",
            "\u001b[0;32m<ipython-input-125-3e89b00b9e4d>\u001b[0m in \u001b[0;36m<module>\u001b[0;34m\u001b[0m\n\u001b[0;32m----> 1\u001b[0;31m \u001b[0mresult_df\u001b[0m\u001b[0;34m.\u001b[0m\u001b[0mset_index\u001b[0m\u001b[0;34m(\u001b[0m\u001b[0mpd\u001b[0m\u001b[0;34m.\u001b[0m\u001b[0mIndex\u001b[0m\u001b[0;34m(\u001b[0m\u001b[0mindex\u001b[0m\u001b[0;34m)\u001b[0m\u001b[0;34m,\u001b[0m \u001b[0minplace\u001b[0m\u001b[0;34m=\u001b[0m\u001b[0;32mTrue\u001b[0m\u001b[0;34m)\u001b[0m\u001b[0;34m\u001b[0m\u001b[0;34m\u001b[0m\u001b[0m\n\u001b[0m",
            "\u001b[0;32m/usr/local/lib/python3.9/dist-packages/pandas/util/_decorators.py\u001b[0m in \u001b[0;36mwrapper\u001b[0;34m(*args, **kwargs)\u001b[0m\n\u001b[1;32m    309\u001b[0m                     \u001b[0mstacklevel\u001b[0m\u001b[0;34m=\u001b[0m\u001b[0mstacklevel\u001b[0m\u001b[0;34m,\u001b[0m\u001b[0;34m\u001b[0m\u001b[0;34m\u001b[0m\u001b[0m\n\u001b[1;32m    310\u001b[0m                 )\n\u001b[0;32m--> 311\u001b[0;31m             \u001b[0;32mreturn\u001b[0m \u001b[0mfunc\u001b[0m\u001b[0;34m(\u001b[0m\u001b[0;34m*\u001b[0m\u001b[0margs\u001b[0m\u001b[0;34m,\u001b[0m \u001b[0;34m**\u001b[0m\u001b[0mkwargs\u001b[0m\u001b[0;34m)\u001b[0m\u001b[0;34m\u001b[0m\u001b[0;34m\u001b[0m\u001b[0m\n\u001b[0m\u001b[1;32m    312\u001b[0m \u001b[0;34m\u001b[0m\u001b[0m\n\u001b[1;32m    313\u001b[0m         \u001b[0;32mreturn\u001b[0m \u001b[0mwrapper\u001b[0m\u001b[0;34m\u001b[0m\u001b[0;34m\u001b[0m\u001b[0m\n",
            "\u001b[0;32m/usr/local/lib/python3.9/dist-packages/pandas/core/frame.py\u001b[0m in \u001b[0;36mset_index\u001b[0;34m(self, keys, drop, append, inplace, verify_integrity)\u001b[0m\n\u001b[1;32m   5551\u001b[0m                 \u001b[0;31m# check newest element against length of calling frame, since\u001b[0m\u001b[0;34m\u001b[0m\u001b[0;34m\u001b[0m\u001b[0m\n\u001b[1;32m   5552\u001b[0m                 \u001b[0;31m# ensure_index_from_sequences would not raise for append=False.\u001b[0m\u001b[0;34m\u001b[0m\u001b[0;34m\u001b[0m\u001b[0m\n\u001b[0;32m-> 5553\u001b[0;31m                 raise ValueError(\n\u001b[0m\u001b[1;32m   5554\u001b[0m                     \u001b[0;34mf\"Length mismatch: Expected {len(self)} rows, \"\u001b[0m\u001b[0;34m\u001b[0m\u001b[0;34m\u001b[0m\u001b[0m\n\u001b[1;32m   5555\u001b[0m                     \u001b[0;34mf\"received array of length {len(arrays[-1])}\"\u001b[0m\u001b[0;34m\u001b[0m\u001b[0;34m\u001b[0m\u001b[0m\n",
            "\u001b[0;31mValueError\u001b[0m: Length mismatch: Expected 1 rows, received array of length 9"
          ]
        }
      ],
      "source": [
        "result_df.set_index(pd.Index(index), inplace=True)"
      ]
    },
    {
      "cell_type": "code",
      "execution_count": 126,
      "metadata": {
        "id": "4oZN8V-hk-Zr",
        "outputId": "c2db364d-2564-4271-d88a-b94c19fd2a3b",
        "colab": {
          "base_uri": "https://localhost:8080/",
          "height": 81
        }
      },
      "outputs": [
        {
          "output_type": "execute_result",
          "data": {
            "text/plain": [
              "   Accuracy  Precision  Recall  F1-score\n",
              "0       0.9       0.89    0.81      0.85"
            ],
            "text/html": [
              "\n",
              "  <div id=\"df-73a8f202-83e1-4237-99fe-fbeb48f1bdb3\">\n",
              "    <div class=\"colab-df-container\">\n",
              "      <div>\n",
              "<style scoped>\n",
              "    .dataframe tbody tr th:only-of-type {\n",
              "        vertical-align: middle;\n",
              "    }\n",
              "\n",
              "    .dataframe tbody tr th {\n",
              "        vertical-align: top;\n",
              "    }\n",
              "\n",
              "    .dataframe thead th {\n",
              "        text-align: right;\n",
              "    }\n",
              "</style>\n",
              "<table border=\"1\" class=\"dataframe\">\n",
              "  <thead>\n",
              "    <tr style=\"text-align: right;\">\n",
              "      <th></th>\n",
              "      <th>Accuracy</th>\n",
              "      <th>Precision</th>\n",
              "      <th>Recall</th>\n",
              "      <th>F1-score</th>\n",
              "    </tr>\n",
              "  </thead>\n",
              "  <tbody>\n",
              "    <tr>\n",
              "      <th>0</th>\n",
              "      <td>0.9</td>\n",
              "      <td>0.89</td>\n",
              "      <td>0.81</td>\n",
              "      <td>0.85</td>\n",
              "    </tr>\n",
              "  </tbody>\n",
              "</table>\n",
              "</div>\n",
              "      <button class=\"colab-df-convert\" onclick=\"convertToInteractive('df-73a8f202-83e1-4237-99fe-fbeb48f1bdb3')\"\n",
              "              title=\"Convert this dataframe to an interactive table.\"\n",
              "              style=\"display:none;\">\n",
              "        \n",
              "  <svg xmlns=\"http://www.w3.org/2000/svg\" height=\"24px\"viewBox=\"0 0 24 24\"\n",
              "       width=\"24px\">\n",
              "    <path d=\"M0 0h24v24H0V0z\" fill=\"none\"/>\n",
              "    <path d=\"M18.56 5.44l.94 2.06.94-2.06 2.06-.94-2.06-.94-.94-2.06-.94 2.06-2.06.94zm-11 1L8.5 8.5l.94-2.06 2.06-.94-2.06-.94L8.5 2.5l-.94 2.06-2.06.94zm10 10l.94 2.06.94-2.06 2.06-.94-2.06-.94-.94-2.06-.94 2.06-2.06.94z\"/><path d=\"M17.41 7.96l-1.37-1.37c-.4-.4-.92-.59-1.43-.59-.52 0-1.04.2-1.43.59L10.3 9.45l-7.72 7.72c-.78.78-.78 2.05 0 2.83L4 21.41c.39.39.9.59 1.41.59.51 0 1.02-.2 1.41-.59l7.78-7.78 2.81-2.81c.8-.78.8-2.07 0-2.86zM5.41 20L4 18.59l7.72-7.72 1.47 1.35L5.41 20z\"/>\n",
              "  </svg>\n",
              "      </button>\n",
              "      \n",
              "  <style>\n",
              "    .colab-df-container {\n",
              "      display:flex;\n",
              "      flex-wrap:wrap;\n",
              "      gap: 12px;\n",
              "    }\n",
              "\n",
              "    .colab-df-convert {\n",
              "      background-color: #E8F0FE;\n",
              "      border: none;\n",
              "      border-radius: 50%;\n",
              "      cursor: pointer;\n",
              "      display: none;\n",
              "      fill: #1967D2;\n",
              "      height: 32px;\n",
              "      padding: 0 0 0 0;\n",
              "      width: 32px;\n",
              "    }\n",
              "\n",
              "    .colab-df-convert:hover {\n",
              "      background-color: #E2EBFA;\n",
              "      box-shadow: 0px 1px 2px rgba(60, 64, 67, 0.3), 0px 1px 3px 1px rgba(60, 64, 67, 0.15);\n",
              "      fill: #174EA6;\n",
              "    }\n",
              "\n",
              "    [theme=dark] .colab-df-convert {\n",
              "      background-color: #3B4455;\n",
              "      fill: #D2E3FC;\n",
              "    }\n",
              "\n",
              "    [theme=dark] .colab-df-convert:hover {\n",
              "      background-color: #434B5C;\n",
              "      box-shadow: 0px 1px 3px 1px rgba(0, 0, 0, 0.15);\n",
              "      filter: drop-shadow(0px 1px 2px rgba(0, 0, 0, 0.3));\n",
              "      fill: #FFFFFF;\n",
              "    }\n",
              "  </style>\n",
              "\n",
              "      <script>\n",
              "        const buttonEl =\n",
              "          document.querySelector('#df-73a8f202-83e1-4237-99fe-fbeb48f1bdb3 button.colab-df-convert');\n",
              "        buttonEl.style.display =\n",
              "          google.colab.kernel.accessAllowed ? 'block' : 'none';\n",
              "\n",
              "        async function convertToInteractive(key) {\n",
              "          const element = document.querySelector('#df-73a8f202-83e1-4237-99fe-fbeb48f1bdb3');\n",
              "          const dataTable =\n",
              "            await google.colab.kernel.invokeFunction('convertToInteractive',\n",
              "                                                     [key], {});\n",
              "          if (!dataTable) return;\n",
              "\n",
              "          const docLinkHtml = 'Like what you see? Visit the ' +\n",
              "            '<a target=\"_blank\" href=https://colab.research.google.com/notebooks/data_table.ipynb>data table notebook</a>'\n",
              "            + ' to learn more about interactive tables.';\n",
              "          element.innerHTML = '';\n",
              "          dataTable['output_type'] = 'display_data';\n",
              "          await google.colab.output.renderOutput(dataTable, element);\n",
              "          const docLink = document.createElement('div');\n",
              "          docLink.innerHTML = docLinkHtml;\n",
              "          element.appendChild(docLink);\n",
              "        }\n",
              "      </script>\n",
              "    </div>\n",
              "  </div>\n",
              "  "
            ]
          },
          "metadata": {},
          "execution_count": 126
        }
      ],
      "source": [
        "result_df"
      ]
    },
    {
      "cell_type": "markdown",
      "metadata": {
        "id": "n0-l0E2Uk-Zr"
      },
      "source": [
        "Problem statement, 1-page summary, Result, methodology "
      ]
    },
    {
      "cell_type": "code",
      "execution_count": null,
      "metadata": {
        "colab": {
          "base_uri": "https://localhost:8080/"
        },
        "id": "EZM1v1Afk-Zr",
        "outputId": "9aeedec3-39e1-4442-ef4d-a09e2c4936b9"
      },
      "outputs": [
        {
          "output_type": "stream",
          "name": "stdout",
          "text": [
            "Looking in indexes: https://pypi.org/simple, https://us-python.pkg.dev/colab-wheels/public/simple/\n",
            "Requirement already satisfied: xgboost in /usr/local/lib/python3.9/dist-packages (1.7.4)\n",
            "Requirement already satisfied: numpy in /usr/local/lib/python3.9/dist-packages (from xgboost) (1.22.4)\n",
            "Requirement already satisfied: scipy in /usr/local/lib/python3.9/dist-packages (from xgboost) (1.10.1)\n"
          ]
        }
      ],
      "source": [
        "!pip install xgboost"
      ]
    },
    {
      "cell_type": "markdown",
      "metadata": {
        "id": "HBK784BGk-Zr"
      },
      "source": [
        "# 10 fold cross validation:"
      ]
    },
    {
      "cell_type": "code",
      "execution_count": null,
      "metadata": {
        "id": "wI7fWjquk-Zr"
      },
      "outputs": [],
      "source": [
        "from sklearn.model_selection import KFold\n",
        "from sklearn.metrics import confusion_matrix, f1_score, precision_score, recall_score, accuracy_score\n",
        "import numpy as np\n",
        "import xgboost as xgb\n",
        "\n",
        "def cross_validate(X, y, model):\n",
        "    # Create a KFold object with 10 folds\n",
        "    kf = KFold(n_splits = 10, shuffle = True, random_state = 786)\n",
        "\n",
        "    sensitivities = []\n",
        "    specificities = []\n",
        "    f1_scores = []\n",
        "    precisions = []\n",
        "    recalls = []\n",
        "    accuracies = []\n",
        "\n",
        "    # Iterate over the folds\n",
        "    for train_index, test_index in kf.split(X):\n",
        "        # Split the data into training and test sets for this fold\n",
        "        X_train, X_test = X[train_index], X[test_index]\n",
        "        y_train, y_test = y[train_index], y[test_index]\n",
        "\n",
        "        # Train your model on the training set\n",
        "        model.fit(X_train, y_train)\n",
        "\n",
        "        # Make predictions on the test set\n",
        "        y_pred = model.predict(X_test)\n",
        "\n",
        "        # Calculate the confusion matrix\n",
        "        tn, fp, fn, tp = confusion_matrix(y_test, y_pred).ravel()\n",
        "\n",
        "        # Calculate sensitivity and specificity for this fold\n",
        "        sensitivity = tp / (tp + fn)\n",
        "        specificity = tn / (tn + fp)\n",
        "\n",
        "        # Calculate F1-score, precision, recall, and accuracy for this fold\n",
        "        f1 = f1_score(y_test, y_pred)\n",
        "        precision = precision_score(y_test, y_pred)\n",
        "        recall = recall_score(y_test, y_pred)\n",
        "        accuracy = accuracy_score(y_test, y_pred)\n",
        "\n",
        "        # Add the metrics to their respective lists\n",
        "        sensitivities.append(sensitivity)\n",
        "        specificities.append(specificity)\n",
        "        f1_scores.append(f1)\n",
        "        precisions.append(precision)\n",
        "        recalls.append(recall)\n",
        "        accuracies.append(accuracy)\n",
        "\n",
        "    # Calculate the mean metrics over all folds\n",
        "    mean_sensitivity = round(np.mean(sensitivities), 2)\n",
        "    mean_specificity = round(np.mean(specificities), 2)\n",
        "    mean_f1_score = round(np.mean(f1_scores), 2)\n",
        "    mean_precision = round(np.mean(precisions), 2)\n",
        "    mean_recall = round(np.mean(recalls), 2)\n",
        "    mean_accuracy = round(np.mean(accuracies), 2)\n",
        "\n",
        "    return {'Sensitivity': mean_sensitivity, \n",
        "            'Specificity' : mean_specificity,\n",
        "            'F1-score' : mean_f1_score, \n",
        "            'Precision' : mean_precision, \n",
        "            'Recall' : mean_recall,\n",
        "            'Accuracy' : mean_accuracy}\n"
      ]
    },
    {
      "cell_type": "markdown",
      "metadata": {
        "id": "P3odVN6pk-Zs"
      },
      "source": [
        "## Center-Right:"
      ]
    },
    {
      "cell_type": "code",
      "execution_count": null,
      "metadata": {
        "colab": {
          "base_uri": "https://localhost:8080/",
          "height": 370
        },
        "id": "Zj-a5F0sk-Zs",
        "outputId": "e88cc369-76b3-491e-f76d-49e882f39ee6"
      },
      "outputs": [
        {
          "output_type": "error",
          "ename": "IndexError",
          "evalue": "ignored",
          "traceback": [
            "\u001b[0;31m---------------------------------------------------------------------------\u001b[0m",
            "\u001b[0;31mIndexError\u001b[0m                                Traceback (most recent call last)",
            "\u001b[0;32m<ipython-input-71-516097c878b0>\u001b[0m in \u001b[0;36m<module>\u001b[0;34m\u001b[0m\n\u001b[1;32m      7\u001b[0m \u001b[0mmodel_xg\u001b[0m \u001b[0;34m=\u001b[0m \u001b[0mxgb\u001b[0m\u001b[0;34m.\u001b[0m\u001b[0mXGBClassifier\u001b[0m\u001b[0;34m(\u001b[0m\u001b[0mobjective\u001b[0m\u001b[0;34m=\u001b[0m\u001b[0;34m\"binary:logistic\"\u001b[0m\u001b[0;34m,\u001b[0m \u001b[0mrandom_state\u001b[0m\u001b[0;34m=\u001b[0m\u001b[0;36m786\u001b[0m\u001b[0;34m)\u001b[0m\u001b[0;34m\u001b[0m\u001b[0;34m\u001b[0m\u001b[0m\n\u001b[1;32m      8\u001b[0m \u001b[0;34m\u001b[0m\u001b[0m\n\u001b[0;32m----> 9\u001b[0;31m \u001b[0mresult_center_right_svm\u001b[0m \u001b[0;34m=\u001b[0m \u001b[0mcross_validate\u001b[0m\u001b[0;34m(\u001b[0m\u001b[0mdata_center_right\u001b[0m\u001b[0;34m,\u001b[0m \u001b[0mlabels\u001b[0m\u001b[0;34m,\u001b[0m \u001b[0mmodel_svm\u001b[0m\u001b[0;34m)\u001b[0m\u001b[0;34m\u001b[0m\u001b[0;34m\u001b[0m\u001b[0m\n\u001b[0m\u001b[1;32m     10\u001b[0m \u001b[0mresult_center_right_xg\u001b[0m \u001b[0;34m=\u001b[0m \u001b[0mcross_validate\u001b[0m\u001b[0;34m(\u001b[0m\u001b[0mdata_center_right\u001b[0m\u001b[0;34m,\u001b[0m \u001b[0mlabels\u001b[0m\u001b[0;34m,\u001b[0m \u001b[0mmodel_xg\u001b[0m\u001b[0;34m)\u001b[0m\u001b[0;34m\u001b[0m\u001b[0;34m\u001b[0m\u001b[0m\n\u001b[1;32m     11\u001b[0m \u001b[0mprint\u001b[0m\u001b[0;34m(\u001b[0m\u001b[0;34mf\"Center-Right -- SVM --\\n{result_center_right_svm}\"\u001b[0m\u001b[0;34m)\u001b[0m\u001b[0;34m\u001b[0m\u001b[0;34m\u001b[0m\u001b[0m\n",
            "\u001b[0;32m<ipython-input-70-e8a1298201c9>\u001b[0m in \u001b[0;36mcross_validate\u001b[0;34m(X, y, model)\u001b[0m\n\u001b[1;32m     19\u001b[0m         \u001b[0;31m# Split the data into training and test sets for this fold\u001b[0m\u001b[0;34m\u001b[0m\u001b[0;34m\u001b[0m\u001b[0m\n\u001b[1;32m     20\u001b[0m         \u001b[0mX_train\u001b[0m\u001b[0;34m,\u001b[0m \u001b[0mX_test\u001b[0m \u001b[0;34m=\u001b[0m \u001b[0mX\u001b[0m\u001b[0;34m[\u001b[0m\u001b[0mtrain_index\u001b[0m\u001b[0;34m]\u001b[0m\u001b[0;34m,\u001b[0m \u001b[0mX\u001b[0m\u001b[0;34m[\u001b[0m\u001b[0mtest_index\u001b[0m\u001b[0;34m]\u001b[0m\u001b[0;34m\u001b[0m\u001b[0;34m\u001b[0m\u001b[0m\n\u001b[0;32m---> 21\u001b[0;31m         \u001b[0my_train\u001b[0m\u001b[0;34m,\u001b[0m \u001b[0my_test\u001b[0m \u001b[0;34m=\u001b[0m \u001b[0my\u001b[0m\u001b[0;34m[\u001b[0m\u001b[0mtrain_index\u001b[0m\u001b[0;34m]\u001b[0m\u001b[0;34m,\u001b[0m \u001b[0my\u001b[0m\u001b[0;34m[\u001b[0m\u001b[0mtest_index\u001b[0m\u001b[0;34m]\u001b[0m\u001b[0;34m\u001b[0m\u001b[0;34m\u001b[0m\u001b[0m\n\u001b[0m\u001b[1;32m     22\u001b[0m \u001b[0;34m\u001b[0m\u001b[0m\n\u001b[1;32m     23\u001b[0m         \u001b[0;31m# Train your model on the training set\u001b[0m\u001b[0;34m\u001b[0m\u001b[0;34m\u001b[0m\u001b[0m\n",
            "\u001b[0;31mIndexError\u001b[0m: index 475 is out of bounds for axis 0 with size 475"
          ]
        }
      ],
      "source": [
        "data_center_right = np.array(data_center_right)\n",
        "#data_center_right = np.reshape(data_center_right, (data_center_right.shape[1], -1))\n",
        "data_center_right = data_center_right.T\n",
        "labels = np.array(labels)\n",
        "\n",
        "model_svm = SVC(kernel='rbf', C=1, gamma='scale')\n",
        "model_xg = xgb.XGBClassifier(objective=\"binary:logistic\", random_state=786)\n",
        "\n",
        "result_center_right_svm = cross_validate(data_center_right, labels, model_svm)\n",
        "result_center_right_xg = cross_validate(data_center_right, labels, model_xg)\n",
        "print(f\"Center-Right -- SVM --\\n{result_center_right_svm}\")\n",
        "print(f\"Center-Right -- XGBoost --\\n{result_center_right_xg}\")"
      ]
    },
    {
      "cell_type": "markdown",
      "metadata": {
        "id": "Gd26uOSJk-Zs"
      },
      "source": [
        "## Left-Center:"
      ]
    },
    {
      "cell_type": "code",
      "execution_count": null,
      "metadata": {
        "colab": {
          "base_uri": "https://localhost:8080/",
          "height": 370
        },
        "id": "lA-nfdwPk-Zs",
        "outputId": "e694e3c0-492e-4f61-a1f5-05d0eaa0f889"
      },
      "outputs": [
        {
          "output_type": "error",
          "ename": "IndexError",
          "evalue": "ignored",
          "traceback": [
            "\u001b[0;31m---------------------------------------------------------------------------\u001b[0m",
            "\u001b[0;31mIndexError\u001b[0m                                Traceback (most recent call last)",
            "\u001b[0;32m<ipython-input-72-61c49057406a>\u001b[0m in \u001b[0;36m<module>\u001b[0;34m\u001b[0m\n\u001b[1;32m      7\u001b[0m \u001b[0mmodel_xg\u001b[0m \u001b[0;34m=\u001b[0m \u001b[0mxgb\u001b[0m\u001b[0;34m.\u001b[0m\u001b[0mXGBClassifier\u001b[0m\u001b[0;34m(\u001b[0m\u001b[0mobjective\u001b[0m\u001b[0;34m=\u001b[0m\u001b[0;34m\"binary:logistic\"\u001b[0m\u001b[0;34m,\u001b[0m \u001b[0mrandom_state\u001b[0m\u001b[0;34m=\u001b[0m\u001b[0;36m786\u001b[0m\u001b[0;34m)\u001b[0m\u001b[0;34m\u001b[0m\u001b[0;34m\u001b[0m\u001b[0m\n\u001b[1;32m      8\u001b[0m \u001b[0;34m\u001b[0m\u001b[0m\n\u001b[0;32m----> 9\u001b[0;31m \u001b[0mresult_left_center_svm\u001b[0m \u001b[0;34m=\u001b[0m \u001b[0mcross_validate\u001b[0m\u001b[0;34m(\u001b[0m\u001b[0mdata_left_center\u001b[0m\u001b[0;34m,\u001b[0m \u001b[0mlabels\u001b[0m\u001b[0;34m,\u001b[0m \u001b[0mmodel_svm\u001b[0m\u001b[0;34m)\u001b[0m\u001b[0;34m\u001b[0m\u001b[0;34m\u001b[0m\u001b[0m\n\u001b[0m\u001b[1;32m     10\u001b[0m \u001b[0mresult_left_center_xg\u001b[0m \u001b[0;34m=\u001b[0m \u001b[0mcross_validate\u001b[0m\u001b[0;34m(\u001b[0m\u001b[0mdata_left_center\u001b[0m\u001b[0;34m,\u001b[0m \u001b[0mlabels\u001b[0m\u001b[0;34m,\u001b[0m \u001b[0mmodel_xg\u001b[0m\u001b[0;34m)\u001b[0m\u001b[0;34m\u001b[0m\u001b[0;34m\u001b[0m\u001b[0m\n\u001b[1;32m     11\u001b[0m \u001b[0mprint\u001b[0m\u001b[0;34m(\u001b[0m\u001b[0;34mf\"Left-Center -- SVM --\\n{result_left_center_svm}\"\u001b[0m\u001b[0;34m)\u001b[0m\u001b[0;34m\u001b[0m\u001b[0;34m\u001b[0m\u001b[0m\n",
            "\u001b[0;32m<ipython-input-70-e8a1298201c9>\u001b[0m in \u001b[0;36mcross_validate\u001b[0;34m(X, y, model)\u001b[0m\n\u001b[1;32m     19\u001b[0m         \u001b[0;31m# Split the data into training and test sets for this fold\u001b[0m\u001b[0;34m\u001b[0m\u001b[0;34m\u001b[0m\u001b[0m\n\u001b[1;32m     20\u001b[0m         \u001b[0mX_train\u001b[0m\u001b[0;34m,\u001b[0m \u001b[0mX_test\u001b[0m \u001b[0;34m=\u001b[0m \u001b[0mX\u001b[0m\u001b[0;34m[\u001b[0m\u001b[0mtrain_index\u001b[0m\u001b[0;34m]\u001b[0m\u001b[0;34m,\u001b[0m \u001b[0mX\u001b[0m\u001b[0;34m[\u001b[0m\u001b[0mtest_index\u001b[0m\u001b[0;34m]\u001b[0m\u001b[0;34m\u001b[0m\u001b[0;34m\u001b[0m\u001b[0m\n\u001b[0;32m---> 21\u001b[0;31m         \u001b[0my_train\u001b[0m\u001b[0;34m,\u001b[0m \u001b[0my_test\u001b[0m \u001b[0;34m=\u001b[0m \u001b[0my\u001b[0m\u001b[0;34m[\u001b[0m\u001b[0mtrain_index\u001b[0m\u001b[0;34m]\u001b[0m\u001b[0;34m,\u001b[0m \u001b[0my\u001b[0m\u001b[0;34m[\u001b[0m\u001b[0mtest_index\u001b[0m\u001b[0;34m]\u001b[0m\u001b[0;34m\u001b[0m\u001b[0;34m\u001b[0m\u001b[0m\n\u001b[0m\u001b[1;32m     22\u001b[0m \u001b[0;34m\u001b[0m\u001b[0m\n\u001b[1;32m     23\u001b[0m         \u001b[0;31m# Train your model on the training set\u001b[0m\u001b[0;34m\u001b[0m\u001b[0;34m\u001b[0m\u001b[0m\n",
            "\u001b[0;31mIndexError\u001b[0m: index 475 is out of bounds for axis 0 with size 475"
          ]
        }
      ],
      "source": [
        "data_left_center = np.array(data_left_center)\n",
        "#data_left_center = np.reshape(data_left_center, (data_left_center.shape[1], -1))\n",
        "data_left_center = data_left_center.T\n",
        "labels = np.array(labels)\n",
        "\n",
        "model_svm = SVC(kernel='rbf', C=1, gamma='scale')\n",
        "model_xg = xgb.XGBClassifier(objective=\"binary:logistic\", random_state=786)\n",
        "\n",
        "result_left_center_svm = cross_validate(data_left_center, labels, model_svm)\n",
        "result_left_center_xg = cross_validate(data_left_center, labels, model_xg)\n",
        "print(f\"Left-Center -- SVM --\\n{result_left_center_svm}\")\n",
        "print(f\"Left-Center -- XGBoost --\\n{result_left_center_xg}\")"
      ]
    },
    {
      "cell_type": "markdown",
      "metadata": {
        "id": "EbJK360Wk-Zs"
      },
      "source": [
        "## Left-Right"
      ]
    },
    {
      "cell_type": "code",
      "execution_count": null,
      "metadata": {
        "id": "8RW1N9Hkk-Zv",
        "outputId": "34581c7c-9676-4681-dcf3-4c34d5babd3c"
      },
      "outputs": [
        {
          "name": "stdout",
          "output_type": "stream",
          "text": [
            "Left-Right -- SVM --\n",
            "{'Sensitivity': 0.91, 'Specificity': 0.44, 'F1-score': 0.73, 'Precision': 0.62, 'Recall': 0.91, 'Accuracy': 0.68}\n",
            "Left-Right -- XGBoost --\n",
            "{'Sensitivity': 0.9, 'Specificity': 0.91, 'F1-score': 0.9, 'Precision': 0.91, 'Recall': 0.9, 'Accuracy': 0.91}\n"
          ]
        }
      ],
      "source": [
        "data_left_right = np.array(data_left_right)\n",
        "data_left_right = data_left_right.T\n",
        "labels = np.array(labels)\n",
        "\n",
        "model_svm = SVC(kernel='rbf', C=1, gamma='scale')\n",
        "model_xg = xgb.XGBClassifier(objective=\"binary:logistic\", random_state=786)\n",
        "\n",
        "result_left_right_svm = cross_validate(data_left_right, labels, model_svm)\n",
        "result_left_right_xg = cross_validate(data_left_right, labels, model_xg)\n",
        "\n",
        "print(f\"Left-Right -- SVM --\\n{result_left_right_svm}\")\n",
        "print(f\"Left-Right -- XGBoost --\\n{result_left_right_xg}\")\n"
      ]
    },
    {
      "cell_type": "markdown",
      "metadata": {
        "id": "PEJLxcURk-Zv"
      },
      "source": [
        "## Left-Right-Center"
      ]
    },
    {
      "cell_type": "code",
      "execution_count": null,
      "metadata": {
        "id": "0Pip9gMEk-Zv",
        "outputId": "872d2091-1947-499d-d780-2c004bf9e778"
      },
      "outputs": [
        {
          "name": "stdout",
          "output_type": "stream",
          "text": [
            "Left-right-center -- SVM --\n",
            "{'Sensitivity': 0.72, 'Specificity': 0.61, 'F1-score': 0.67, 'Precision': 0.65, 'Recall': 0.72, 'Accuracy': 0.65}\n",
            "Left-right-center -- XGBoost --\n",
            "{'Sensitivity': 0.8, 'Specificity': 0.83, 'F1-score': 0.8, 'Precision': 0.82, 'Recall': 0.8, 'Accuracy': 0.82}\n"
          ]
        }
      ],
      "source": [
        "data = np.array(data) #Run the cell for getting the full image\n",
        "data = data.T\n",
        "labels = np.array(labels)\n",
        "\n",
        "model_svm = SVC(kernel='rbf', C=1, gamma='scale')\n",
        "model_xg = xgb.XGBClassifier(objective=\"binary:logistic\", random_state=786)\n",
        "\n",
        "result_svm = cross_validate(data, labels, model_svm)\n",
        "result_xg = cross_validate(data, labels, model_xg)\n",
        "print(f\"Left-right-center -- SVM --\\n{result_svm}\")\n",
        "print(f\"Left-right-center -- XGBoost --\\n{result_xg}\")"
      ]
    },
    {
      "cell_type": "markdown",
      "metadata": {
        "id": "_Ogr-OEUk-Zv"
      },
      "source": [
        "## Full Image"
      ]
    },
    {
      "cell_type": "code",
      "execution_count": null,
      "metadata": {
        "id": "So36Kf-gk-Zv",
        "outputId": "aa0ec7a6-eb92-49f4-fe3b-97ebb990582c"
      },
      "outputs": [
        {
          "name": "stdout",
          "output_type": "stream",
          "text": [
            "Full image -- SVM --\n",
            "{'Sensitivity': 0.86, 'Specificity': 0.76, 'F1-score': 0.82, 'Precision': 0.78, 'Recall': 0.86, 'Accuracy': 0.81}\n",
            "Full Image -- XGBoost --\n",
            "{'Sensitivity': 0.85, 'Specificity': 0.82, 'F1-score': 0.84, 'Precision': 0.83, 'Recall': 0.85, 'Accuracy': 0.84}\n"
          ]
        }
      ],
      "source": [
        "data = np.array(data) #Run the cell for getting the full image\n",
        "data = data.T\n",
        "labels = np.array(labels)\n",
        "\n",
        "model_svm = SVC(kernel='rbf', C=1, gamma='scale')\n",
        "model_xg = xgb.XGBClassifier(objective=\"binary:logistic\", random_state=786)\n",
        "\n",
        "result_svm = cross_validate(data, labels, model_svm)\n",
        "result_xg = cross_validate(data, labels, model_xg)\n",
        "print(f\"Full image -- SVM --\\n{result_svm}\")\n",
        "print(f\"Full Image -- XGBoost --\\n{result_xg}\")\n"
      ]
    },
    {
      "cell_type": "markdown",
      "metadata": {
        "id": "eGd6h6Dwk-Zw"
      },
      "source": [
        "## Middle-strip"
      ]
    },
    {
      "cell_type": "code",
      "execution_count": null,
      "metadata": {
        "colab": {
          "base_uri": "https://localhost:8080/",
          "height": 413
        },
        "id": "wtB_eGZUk-Zw",
        "outputId": "90b48ca3-b318-4b86-9c3d-351d3e7b5ff0"
      },
      "outputs": [
        {
          "output_type": "error",
          "ename": "ValueError",
          "evalue": "ignored",
          "traceback": [
            "\u001b[0;31m---------------------------------------------------------------------------\u001b[0m",
            "\u001b[0;31mValueError\u001b[0m                                Traceback (most recent call last)",
            "\u001b[0;32m<ipython-input-73-d6ef0e137340>\u001b[0m in \u001b[0;36m<module>\u001b[0;34m\u001b[0m\n\u001b[1;32m      6\u001b[0m \u001b[0mmodel_xg\u001b[0m \u001b[0;34m=\u001b[0m \u001b[0mxgb\u001b[0m\u001b[0;34m.\u001b[0m\u001b[0mXGBClassifier\u001b[0m\u001b[0;34m(\u001b[0m\u001b[0mobjective\u001b[0m\u001b[0;34m=\u001b[0m\u001b[0;34m\"binary:logistic\"\u001b[0m\u001b[0;34m,\u001b[0m \u001b[0mrandom_state\u001b[0m\u001b[0;34m=\u001b[0m\u001b[0;36m786\u001b[0m\u001b[0;34m)\u001b[0m\u001b[0;34m\u001b[0m\u001b[0;34m\u001b[0m\u001b[0m\n\u001b[1;32m      7\u001b[0m \u001b[0;34m\u001b[0m\u001b[0m\n\u001b[0;32m----> 8\u001b[0;31m \u001b[0mresult_svm\u001b[0m \u001b[0;34m=\u001b[0m \u001b[0mcross_validate\u001b[0m\u001b[0;34m(\u001b[0m\u001b[0mdata\u001b[0m\u001b[0;34m,\u001b[0m \u001b[0mlabels\u001b[0m\u001b[0;34m,\u001b[0m \u001b[0mmodel_svm\u001b[0m\u001b[0;34m)\u001b[0m\u001b[0;34m\u001b[0m\u001b[0;34m\u001b[0m\u001b[0m\n\u001b[0m\u001b[1;32m      9\u001b[0m \u001b[0mresult_xg\u001b[0m \u001b[0;34m=\u001b[0m \u001b[0mcross_validate\u001b[0m\u001b[0;34m(\u001b[0m\u001b[0mdata\u001b[0m\u001b[0;34m,\u001b[0m \u001b[0mlabels\u001b[0m\u001b[0;34m,\u001b[0m \u001b[0mmodel_xg\u001b[0m\u001b[0;34m)\u001b[0m\u001b[0;34m\u001b[0m\u001b[0;34m\u001b[0m\u001b[0m\n\u001b[1;32m     10\u001b[0m \u001b[0mprint\u001b[0m\u001b[0;34m(\u001b[0m\u001b[0;34mf\"Middle-strip -- SVM --\\n{result_svm}\"\u001b[0m\u001b[0;34m)\u001b[0m\u001b[0;34m\u001b[0m\u001b[0;34m\u001b[0m\u001b[0m\n",
            "\u001b[0;32m<ipython-input-70-e8a1298201c9>\u001b[0m in \u001b[0;36mcross_validate\u001b[0;34m(X, y, model)\u001b[0m\n\u001b[1;32m     22\u001b[0m \u001b[0;34m\u001b[0m\u001b[0m\n\u001b[1;32m     23\u001b[0m         \u001b[0;31m# Train your model on the training set\u001b[0m\u001b[0;34m\u001b[0m\u001b[0;34m\u001b[0m\u001b[0m\n\u001b[0;32m---> 24\u001b[0;31m         \u001b[0mmodel\u001b[0m\u001b[0;34m.\u001b[0m\u001b[0mfit\u001b[0m\u001b[0;34m(\u001b[0m\u001b[0mX_train\u001b[0m\u001b[0;34m,\u001b[0m \u001b[0my_train\u001b[0m\u001b[0;34m)\u001b[0m\u001b[0;34m\u001b[0m\u001b[0;34m\u001b[0m\u001b[0m\n\u001b[0m\u001b[1;32m     25\u001b[0m \u001b[0;34m\u001b[0m\u001b[0m\n\u001b[1;32m     26\u001b[0m         \u001b[0;31m# Make predictions on the test set\u001b[0m\u001b[0;34m\u001b[0m\u001b[0;34m\u001b[0m\u001b[0m\n",
            "\u001b[0;32m/usr/local/lib/python3.9/dist-packages/sklearn/svm/_base.py\u001b[0m in \u001b[0;36mfit\u001b[0;34m(self, X, y, sample_weight)\u001b[0m\n\u001b[1;32m    190\u001b[0m             \u001b[0mcheck_consistent_length\u001b[0m\u001b[0;34m(\u001b[0m\u001b[0mX\u001b[0m\u001b[0;34m,\u001b[0m \u001b[0my\u001b[0m\u001b[0;34m)\u001b[0m\u001b[0;34m\u001b[0m\u001b[0;34m\u001b[0m\u001b[0m\n\u001b[1;32m    191\u001b[0m         \u001b[0;32melse\u001b[0m\u001b[0;34m:\u001b[0m\u001b[0;34m\u001b[0m\u001b[0;34m\u001b[0m\u001b[0m\n\u001b[0;32m--> 192\u001b[0;31m             X, y = self._validate_data(\n\u001b[0m\u001b[1;32m    193\u001b[0m                 \u001b[0mX\u001b[0m\u001b[0;34m,\u001b[0m\u001b[0;34m\u001b[0m\u001b[0;34m\u001b[0m\u001b[0m\n\u001b[1;32m    194\u001b[0m                 \u001b[0my\u001b[0m\u001b[0;34m,\u001b[0m\u001b[0;34m\u001b[0m\u001b[0;34m\u001b[0m\u001b[0m\n",
            "\u001b[0;32m/usr/local/lib/python3.9/dist-packages/sklearn/base.py\u001b[0m in \u001b[0;36m_validate_data\u001b[0;34m(self, X, y, reset, validate_separately, **check_params)\u001b[0m\n\u001b[1;32m    582\u001b[0m                 \u001b[0my\u001b[0m \u001b[0;34m=\u001b[0m \u001b[0mcheck_array\u001b[0m\u001b[0;34m(\u001b[0m\u001b[0my\u001b[0m\u001b[0;34m,\u001b[0m \u001b[0minput_name\u001b[0m\u001b[0;34m=\u001b[0m\u001b[0;34m\"y\"\u001b[0m\u001b[0;34m,\u001b[0m \u001b[0;34m**\u001b[0m\u001b[0mcheck_y_params\u001b[0m\u001b[0;34m)\u001b[0m\u001b[0;34m\u001b[0m\u001b[0;34m\u001b[0m\u001b[0m\n\u001b[1;32m    583\u001b[0m             \u001b[0;32melse\u001b[0m\u001b[0;34m:\u001b[0m\u001b[0;34m\u001b[0m\u001b[0;34m\u001b[0m\u001b[0m\n\u001b[0;32m--> 584\u001b[0;31m                 \u001b[0mX\u001b[0m\u001b[0;34m,\u001b[0m \u001b[0my\u001b[0m \u001b[0;34m=\u001b[0m \u001b[0mcheck_X_y\u001b[0m\u001b[0;34m(\u001b[0m\u001b[0mX\u001b[0m\u001b[0;34m,\u001b[0m \u001b[0my\u001b[0m\u001b[0;34m,\u001b[0m \u001b[0;34m**\u001b[0m\u001b[0mcheck_params\u001b[0m\u001b[0;34m)\u001b[0m\u001b[0;34m\u001b[0m\u001b[0;34m\u001b[0m\u001b[0m\n\u001b[0m\u001b[1;32m    585\u001b[0m             \u001b[0mout\u001b[0m \u001b[0;34m=\u001b[0m \u001b[0mX\u001b[0m\u001b[0;34m,\u001b[0m \u001b[0my\u001b[0m\u001b[0;34m\u001b[0m\u001b[0;34m\u001b[0m\u001b[0m\n\u001b[1;32m    586\u001b[0m \u001b[0;34m\u001b[0m\u001b[0m\n",
            "\u001b[0;32m/usr/local/lib/python3.9/dist-packages/sklearn/utils/validation.py\u001b[0m in \u001b[0;36mcheck_X_y\u001b[0;34m(X, y, accept_sparse, accept_large_sparse, dtype, order, copy, force_all_finite, ensure_2d, allow_nd, multi_output, ensure_min_samples, ensure_min_features, y_numeric, estimator)\u001b[0m\n\u001b[1;32m   1104\u001b[0m         )\n\u001b[1;32m   1105\u001b[0m \u001b[0;34m\u001b[0m\u001b[0m\n\u001b[0;32m-> 1106\u001b[0;31m     X = check_array(\n\u001b[0m\u001b[1;32m   1107\u001b[0m         \u001b[0mX\u001b[0m\u001b[0;34m,\u001b[0m\u001b[0;34m\u001b[0m\u001b[0;34m\u001b[0m\u001b[0m\n\u001b[1;32m   1108\u001b[0m         \u001b[0maccept_sparse\u001b[0m\u001b[0;34m=\u001b[0m\u001b[0maccept_sparse\u001b[0m\u001b[0;34m,\u001b[0m\u001b[0;34m\u001b[0m\u001b[0;34m\u001b[0m\u001b[0m\n",
            "\u001b[0;32m/usr/local/lib/python3.9/dist-packages/sklearn/utils/validation.py\u001b[0m in \u001b[0;36mcheck_array\u001b[0;34m(array, accept_sparse, accept_large_sparse, dtype, order, copy, force_all_finite, ensure_2d, allow_nd, ensure_min_samples, ensure_min_features, estimator, input_name)\u001b[0m\n\u001b[1;32m    913\u001b[0m             )\n\u001b[1;32m    914\u001b[0m         \u001b[0;32mif\u001b[0m \u001b[0;32mnot\u001b[0m \u001b[0mallow_nd\u001b[0m \u001b[0;32mand\u001b[0m \u001b[0marray\u001b[0m\u001b[0;34m.\u001b[0m\u001b[0mndim\u001b[0m \u001b[0;34m>=\u001b[0m \u001b[0;36m3\u001b[0m\u001b[0;34m:\u001b[0m\u001b[0;34m\u001b[0m\u001b[0;34m\u001b[0m\u001b[0m\n\u001b[0;32m--> 915\u001b[0;31m             raise ValueError(\n\u001b[0m\u001b[1;32m    916\u001b[0m                 \u001b[0;34m\"Found array with dim %d. %s expected <= 2.\"\u001b[0m\u001b[0;34m\u001b[0m\u001b[0;34m\u001b[0m\u001b[0m\n\u001b[1;32m    917\u001b[0m                 \u001b[0;34m%\u001b[0m \u001b[0;34m(\u001b[0m\u001b[0marray\u001b[0m\u001b[0;34m.\u001b[0m\u001b[0mndim\u001b[0m\u001b[0;34m,\u001b[0m \u001b[0mestimator_name\u001b[0m\u001b[0;34m)\u001b[0m\u001b[0;34m\u001b[0m\u001b[0;34m\u001b[0m\u001b[0m\n",
            "\u001b[0;31mValueError\u001b[0m: Found array with dim 3. SVC expected <= 2."
          ]
        }
      ],
      "source": [
        "data = np.array(data) #Run the cell for getting the middle-strip \n",
        "data = data.T\n",
        "labels = np.array(labels)\n",
        "\n",
        "model_svm = SVC(kernel='rbf', C=1, gamma='scale')\n",
        "model_xg = xgb.XGBClassifier(objective=\"binary:logistic\", random_state=786)\n",
        "\n",
        "result_svm = cross_validate(data, labels, model_svm)\n",
        "result_xg = cross_validate(data, labels, model_xg)\n",
        "print(f\"Middle-strip -- SVM --\\n{result_svm}\")\n",
        "print(f\"Middle-strip -- XGBoost --\\n{result_xg}\")\n"
      ]
    },
    {
      "cell_type": "markdown",
      "metadata": {
        "id": "c1erW9JEk-Zw"
      },
      "source": [
        "## Left"
      ]
    },
    {
      "cell_type": "code",
      "execution_count": null,
      "metadata": {
        "id": "Xec6_y03k-Zw",
        "outputId": "d6b61a8f-3b10-453e-8973-1ba86b262ef6"
      },
      "outputs": [
        {
          "name": "stdout",
          "output_type": "stream",
          "text": [
            "Left -- SVM --\t{'Sensitivity': 0.95, 'Specificity': 0.43, 'F1-score': 0.74, 'Precision': 0.62, 'Recall': 0.95, 'Accuracy': 0.68}\n",
            "Left -- XGBoost --\t{'Sensitivity': 0.79, 'Specificity': 0.74, 'F1-score': 0.76, 'Precision': 0.75, 'Recall': 0.79, 'Accuracy': 0.76}\n"
          ]
        }
      ],
      "source": [
        "data_left = np.array(data_left)\n",
        "data_left = data_left.T\n",
        "labels = np.array(labels)\n",
        "\n",
        "model_svm = SVC(kernel='rbf', C=1, gamma='scale')\n",
        "model_xg = xgb.XGBClassifier(objective=\"binary:logistic\", random_state=786)\n",
        "\n",
        "result_left_svm = cross_validate(data_left, labels, model_svm)\n",
        "result_left_xg = cross_validate(data_left, labels, model_xg)\n",
        "print(f\"Left -- SVM --\\t{result_left_svm}\")\n",
        "print(f\"Left -- XGBoost --\\t{result_left_xg}\")"
      ]
    },
    {
      "cell_type": "markdown",
      "metadata": {
        "id": "bDdWcB_ek-Zw"
      },
      "source": [
        "## Right"
      ]
    },
    {
      "cell_type": "code",
      "execution_count": null,
      "metadata": {
        "id": "J9SLbqRSk-Zw",
        "outputId": "9e694265-77ac-4964-ef02-a82c2825dd37"
      },
      "outputs": [
        {
          "name": "stdout",
          "output_type": "stream",
          "text": [
            "Right -- SVM --\t{'Sensitivity': 0.86, 'Specificity': 0.45, 'F1-score': 0.69, 'Precision': 0.62, 'Recall': 0.86, 'Accuracy': 0.64}\n",
            "Right -- XGBoost --\t{'Sensitivity': 0.81, 'Specificity': 0.78, 'F1-score': 0.79, 'Precision': 0.78, 'Recall': 0.81, 'Accuracy': 0.79}\n"
          ]
        }
      ],
      "source": [
        "data_right = np.array(data_right)\n",
        "data_right = data_right.T\n",
        "labels = np.array(labels)\n",
        "\n",
        "model_svm = SVC(kernel='rbf', C=1, gamma='scale')\n",
        "model_xg = xgb.XGBClassifier(objective=\"binary:logistic\", random_state=786)\n",
        "\n",
        "result_right_svm = cross_validate(data_right, labels, model_svm)\n",
        "result_right_xg = cross_validate(data_right, labels, model_xg)\n",
        "print(f\"Right -- SVM --\\t{result_right_svm}\")\n",
        "print(f\"Right -- XGBoost --\\t{result_right_xg}\")"
      ]
    },
    {
      "cell_type": "markdown",
      "metadata": {
        "id": "eVcmQf0Ck-Zx"
      },
      "source": [
        "## Center"
      ]
    },
    {
      "cell_type": "code",
      "execution_count": null,
      "metadata": {
        "id": "wg0M8IBQk-Zx",
        "outputId": "ffe43e25-842d-4169-e4b8-5398416eac65"
      },
      "outputs": [
        {
          "name": "stdout",
          "output_type": "stream",
          "text": [
            "Center -- SVM --\t{'Sensitivity': 0.59, 'Specificity': 0.59, 'F1-score': 0.56, 'Precision': 0.6, 'Recall': 0.59, 'Accuracy': 0.57}\n",
            "Center -- XGBoost --\t{'Sensitivity': 0.67, 'Specificity': 0.71, 'F1-score': 0.67, 'Precision': 0.69, 'Recall': 0.67, 'Accuracy': 0.68}\n"
          ]
        }
      ],
      "source": [
        "data_center = np.array(data_center)\n",
        "data_center = data_center.T\n",
        "labels = np.array(labels)\n",
        "\n",
        "model_svm = SVC(kernel='rbf', C=1, gamma='scale')\n",
        "model_xg = xgb.XGBClassifier(objective=\"binary:logistic\", random_state=786)\n",
        "\n",
        "result_center_svm = cross_validate(data_center, labels, model_svm)\n",
        "result_center_xg = cross_validate(data_center, labels, model_xg)\n",
        "print(f\"Center -- SVM --\\t{result_center_svm}\")\n",
        "print(f\"Center -- XGBoost --\\t{result_center_xg}\")"
      ]
    },
    {
      "cell_type": "code",
      "execution_count": null,
      "metadata": {
        "id": "qDHTTN9Kk-Zx"
      },
      "outputs": [],
      "source": []
    },
    {
      "cell_type": "code",
      "execution_count": null,
      "metadata": {
        "id": "AlBoNqzHk-Zx"
      },
      "outputs": [],
      "source": []
    },
    {
      "cell_type": "code",
      "execution_count": null,
      "metadata": {
        "id": "Y5k5DX9Zk-Zx"
      },
      "outputs": [],
      "source": []
    },
    {
      "cell_type": "code",
      "execution_count": null,
      "metadata": {
        "id": "UozSoow-k-Zx"
      },
      "outputs": [],
      "source": []
    },
    {
      "cell_type": "code",
      "execution_count": null,
      "metadata": {
        "id": "AodEedZLk-Zx"
      },
      "outputs": [],
      "source": []
    },
    {
      "cell_type": "code",
      "execution_count": null,
      "metadata": {
        "id": "8wc4mZk9k-Zx"
      },
      "outputs": [],
      "source": []
    },
    {
      "cell_type": "code",
      "execution_count": null,
      "metadata": {
        "id": "dVbJKTVGk-Zx"
      },
      "outputs": [],
      "source": []
    },
    {
      "cell_type": "code",
      "execution_count": null,
      "metadata": {
        "id": "PYnYPjuVk-Zy"
      },
      "outputs": [],
      "source": []
    },
    {
      "cell_type": "code",
      "execution_count": null,
      "metadata": {
        "id": "VX10ujqsk-Zy"
      },
      "outputs": [],
      "source": []
    },
    {
      "cell_type": "code",
      "execution_count": null,
      "metadata": {
        "id": "gdrw5LRvk-Zy"
      },
      "outputs": [],
      "source": []
    },
    {
      "cell_type": "code",
      "execution_count": null,
      "metadata": {
        "id": "cPUfpvq9k-Zy"
      },
      "outputs": [],
      "source": []
    },
    {
      "cell_type": "code",
      "execution_count": null,
      "metadata": {
        "id": "R4Jw-6Fpk-Zy"
      },
      "outputs": [],
      "source": []
    },
    {
      "cell_type": "code",
      "execution_count": null,
      "metadata": {
        "id": "FggXU22gk-Zy"
      },
      "outputs": [],
      "source": []
    },
    {
      "cell_type": "code",
      "execution_count": null,
      "metadata": {
        "id": "0oaamSgDk-Zy"
      },
      "outputs": [],
      "source": []
    }
  ],
  "metadata": {
    "kernelspec": {
      "display_name": "Python 3",
      "language": "python",
      "name": "python3"
    },
    "language_info": {
      "codemirror_mode": {
        "name": "ipython",
        "version": 3
      },
      "file_extension": ".py",
      "mimetype": "text/x-python",
      "name": "python",
      "nbconvert_exporter": "python",
      "pygments_lexer": "ipython3",
      "version": "3.8.3"
    },
    "colab": {
      "provenance": [],
      "include_colab_link": true
    }
  },
  "nbformat": 4,
  "nbformat_minor": 0
}