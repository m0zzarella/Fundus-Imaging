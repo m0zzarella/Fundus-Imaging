{
  "nbformat": 4,
  "nbformat_minor": 0,
  "metadata": {
    "colab": {
      "name": "blood_vessels.ipynb",
      "provenance": [],
      "collapsed_sections": [],
      "authorship_tag": "ABX9TyP9arjiF2R27zqe53bwlr67",
      "include_colab_link": true
    },
    "kernelspec": {
      "display_name": "Python 3",
      "name": "python3"
    },
    "language_info": {
      "name": "python"
    }
  },
  "cells": [
    {
      "cell_type": "markdown",
      "metadata": {
        "id": "view-in-github",
        "colab_type": "text"
      },
      "source": [
        "<a href=\"https://colab.research.google.com/github/m0zzarella/Fundus-Imaging/blob/main/blood_vessels.ipynb\" target=\"_parent\"><img src=\"https://colab.research.google.com/assets/colab-badge.svg\" alt=\"Open In Colab\"/></a>"
      ]
    },
    {
      "cell_type": "code",
      "metadata": {
        "colab": {
          "base_uri": "https://localhost:8080/"
        },
        "id": "T0zbcoB6Oq_7",
        "outputId": "6e655617-2d7b-43c6-8f5e-f0553d053694"
      },
      "source": [
        "import cv2 as cv\n",
        "import numpy as np\n",
        "from google.colab import drive\n",
        "import glob\n",
        "import os\n",
        "!pip install image_similarity_measures\n",
        "import image_similarity_measures\n",
        "from image_similarity_measures.quality_metrics import rmse, psnr"
      ],
      "execution_count": null,
      "outputs": [
        {
          "output_type": "stream",
          "name": "stdout",
          "text": [
            "Collecting image_similarity_measures\n",
            "  Downloading image_similarity_measures-0.3.5-py3-none-any.whl (9.1 kB)\n",
            "Collecting rasterio\n",
            "  Downloading rasterio-1.2.9-cp37-cp37m-manylinux1_x86_64.whl (19.3 MB)\n",
            "\u001b[K     |████████████████████████████████| 19.3 MB 1.1 MB/s \n",
            "\u001b[?25hCollecting phasepack\n",
            "  Downloading phasepack-1.5.tar.gz (15 kB)\n",
            "Requirement already satisfied: opencv-python in /usr/local/lib/python3.7/dist-packages (from image_similarity_measures) (4.1.2.30)\n",
            "Collecting pyfftw\n",
            "  Downloading pyFFTW-0.12.0-cp37-cp37m-manylinux1_x86_64.whl (2.6 MB)\n",
            "\u001b[K     |████████████████████████████████| 2.6 MB 37.8 MB/s \n",
            "\u001b[?25hRequirement already satisfied: numpy in /usr/local/lib/python3.7/dist-packages (from image_similarity_measures) (1.19.5)\n",
            "Requirement already satisfied: scikit-image in /usr/local/lib/python3.7/dist-packages (from image_similarity_measures) (0.16.2)\n",
            "Requirement already satisfied: certifi in /usr/local/lib/python3.7/dist-packages (from rasterio->image_similarity_measures) (2021.5.30)\n",
            "Collecting snuggs>=1.4.1\n",
            "  Downloading snuggs-1.4.7-py3-none-any.whl (5.4 kB)\n",
            "Collecting cligj>=0.5\n",
            "  Downloading cligj-0.7.2-py3-none-any.whl (7.1 kB)\n",
            "Requirement already satisfied: click>=4.0 in /usr/local/lib/python3.7/dist-packages (from rasterio->image_similarity_measures) (7.1.2)\n",
            "Collecting affine\n",
            "  Downloading affine-2.3.0-py2.py3-none-any.whl (15 kB)\n",
            "Requirement already satisfied: setuptools in /usr/local/lib/python3.7/dist-packages (from rasterio->image_similarity_measures) (57.4.0)\n",
            "Collecting click-plugins\n",
            "  Downloading click_plugins-1.1.1-py2.py3-none-any.whl (7.5 kB)\n",
            "Requirement already satisfied: attrs in /usr/local/lib/python3.7/dist-packages (from rasterio->image_similarity_measures) (21.2.0)\n",
            "Requirement already satisfied: pyparsing>=2.1.6 in /usr/local/lib/python3.7/dist-packages (from snuggs>=1.4.1->rasterio->image_similarity_measures) (2.4.7)\n",
            "Requirement already satisfied: matplotlib!=3.0.0,>=2.0.0 in /usr/local/lib/python3.7/dist-packages (from scikit-image->image_similarity_measures) (3.2.2)\n",
            "Requirement already satisfied: networkx>=2.0 in /usr/local/lib/python3.7/dist-packages (from scikit-image->image_similarity_measures) (2.6.3)\n",
            "Requirement already satisfied: imageio>=2.3.0 in /usr/local/lib/python3.7/dist-packages (from scikit-image->image_similarity_measures) (2.4.1)\n",
            "Requirement already satisfied: scipy>=0.19.0 in /usr/local/lib/python3.7/dist-packages (from scikit-image->image_similarity_measures) (1.4.1)\n",
            "Requirement already satisfied: pillow>=4.3.0 in /usr/local/lib/python3.7/dist-packages (from scikit-image->image_similarity_measures) (7.1.2)\n",
            "Requirement already satisfied: PyWavelets>=0.4.0 in /usr/local/lib/python3.7/dist-packages (from scikit-image->image_similarity_measures) (1.1.1)\n",
            "Requirement already satisfied: cycler>=0.10 in /usr/local/lib/python3.7/dist-packages (from matplotlib!=3.0.0,>=2.0.0->scikit-image->image_similarity_measures) (0.10.0)\n",
            "Requirement already satisfied: kiwisolver>=1.0.1 in /usr/local/lib/python3.7/dist-packages (from matplotlib!=3.0.0,>=2.0.0->scikit-image->image_similarity_measures) (1.3.2)\n",
            "Requirement already satisfied: python-dateutil>=2.1 in /usr/local/lib/python3.7/dist-packages (from matplotlib!=3.0.0,>=2.0.0->scikit-image->image_similarity_measures) (2.8.2)\n",
            "Requirement already satisfied: six in /usr/local/lib/python3.7/dist-packages (from cycler>=0.10->matplotlib!=3.0.0,>=2.0.0->scikit-image->image_similarity_measures) (1.15.0)\n",
            "Building wheels for collected packages: phasepack\n",
            "  Building wheel for phasepack (setup.py) ... \u001b[?25l\u001b[?25hdone\n",
            "  Created wheel for phasepack: filename=phasepack-1.5-py3-none-any.whl size=26983 sha256=e8d2911dc772382cdedb9caa1aba4d3f2ef0a4a0a3ec0a9db07a956cbc2e44d8\n",
            "  Stored in directory: /root/.cache/pip/wheels/39/5c/b3/79292d7ac3f088e858805b5515b45cf5a365106397d936caf1\n",
            "Successfully built phasepack\n",
            "Installing collected packages: snuggs, cligj, click-plugins, affine, rasterio, pyfftw, phasepack, image-similarity-measures\n",
            "Successfully installed affine-2.3.0 click-plugins-1.1.1 cligj-0.7.2 image-similarity-measures-0.3.5 phasepack-1.5 pyfftw-0.12.0 rasterio-1.2.9 snuggs-1.4.7\n"
          ]
        }
      ]
    },
    {
      "cell_type": "code",
      "metadata": {
        "id": "JSTrtEoTDVdR"
      },
      "source": [
        "from skimage import data, io, filters\n",
        "from skimage.metrics import structural_similarity"
      ],
      "execution_count": null,
      "outputs": []
    },
    {
      "cell_type": "code",
      "metadata": {
        "colab": {
          "base_uri": "https://localhost:8080/"
        },
        "id": "HTiHG7aNPEHa",
        "outputId": "83315264-26fd-4bb1-b42f-5d33f26090bf"
      },
      "source": [
        "drive.mount('/content/drive')\n"
      ],
      "execution_count": null,
      "outputs": [
        {
          "output_type": "stream",
          "name": "stdout",
          "text": [
            "Mounted at /content/drive\n"
          ]
        }
      ]
    },
    {
      "cell_type": "code",
      "metadata": {
        "colab": {
          "base_uri": "https://localhost:8080/"
        },
        "id": "JOTswsiSgrUu",
        "outputId": "1910ef04-9bf7-4a82-a578-c1da30036d04"
      },
      "source": [
        "%cd \"/content/drive/MyDrive/Fundus_Imaging/fundus_images/\""
      ],
      "execution_count": null,
      "outputs": [
        {
          "output_type": "stream",
          "name": "stdout",
          "text": [
            "/content/drive/MyDrive/Fundus_Imaging/fundus_images\n"
          ]
        }
      ]
    },
    {
      "cell_type": "code",
      "metadata": {
        "id": "qpqQuBJhPz6U"
      },
      "source": [
        "path = \"/content/drive/MyDrive/Fundus_Imaging/fundus_images/\"\n",
        "savepath = \"/content/drive/MyDrive/Fundus_Imaging/Results/\"\n",
        "for file in os.listdir(path):\n",
        "   #print(os.listdir(path))\n",
        "   #print(file)\n",
        "   img = cv.imread(file, cv.IMREAD_UNCHANGED)\n",
        "   b,green_channel,r = cv.split(img)\n",
        "   clahe = cv.createCLAHE(clipLimit=2.0, tileGridSize=(8,8))   \n",
        "   enhanced_green_channel = clahe.apply(green_channel)\n",
        "   open1 = cv.morphologyEx(enhanced_green_channel, cv.MORPH_OPEN, cv.getStructuringElement(cv.MORPH_ELLIPSE,(5,5)), iterations = 1)\n",
        "   close1 = cv.morphologyEx(open1, cv.MORPH_CLOSE, cv.getStructuringElement(cv.MORPH_ELLIPSE,(5,5)), iterations = 1)\n",
        "   open2 = cv.morphologyEx(close1, cv.MORPH_OPEN, cv.getStructuringElement(cv.MORPH_ELLIPSE,(15,15)), iterations = 1)\n",
        "   close2 = cv.morphologyEx(open2, cv.MORPH_CLOSE, cv.getStructuringElement(cv.MORPH_ELLIPSE,(15,15)), iterations = 1)\n",
        "   open3 = cv.morphologyEx(close2, cv.MORPH_OPEN, cv.getStructuringElement(cv.MORPH_ELLIPSE,(30,30)), iterations = 1)\n",
        "   close3 = cv.morphologyEx(open3, cv.MORPH_CLOSE, cv.getStructuringElement(cv.MORPH_ELLIPSE,(30,30)), iterations = 1)\n",
        "\n",
        "   subt = cv.subtract(close3,enhanced_green_channel)\n",
        "   img2 = clahe.apply(subt)\n",
        "   ret,bin1 = cv.threshold(img2,15,255,cv.THRESH_BINARY)\t\n",
        "\n",
        "   mask = np.ones(img2.shape[:2], dtype=\"uint8\") * 255\t\n",
        "   contours = cv.findContours(bin1.copy(),cv.RETR_LIST,cv.CHAIN_APPROX_SIMPLE)[0]\n",
        "\n",
        "   #to remove the contours\n",
        "   for j in contours:\n",
        "\t    if cv.contourArea(j) <= 200:\n",
        "\t\t     cv.drawContours(mask, [j], -1, 0, -1)\t\t\t\n",
        "   img3 = cv.bitwise_and(img2, img2, mask=mask)\n",
        "\n",
        "   cont_rem = cv.erode(img3, cv.getStructuringElement(cv.MORPH_ELLIPSE,(3,3)), iterations=1)\n",
        "   ret,blood_vessels = cv.threshold(cont_rem,11,255,cv.THRESH_BINARY)\n",
        "   cv.imwrite(os.path.join(savepath,file), blood_vessels)"
      ],
      "execution_count": null,
      "outputs": []
    },
    {
      "cell_type": "code",
      "metadata": {
        "id": "IY4f2VdEsM03"
      },
      "source": [
        "%cd \"/content/drive/MyDrive/Fundus_Imaging/Results\""
      ],
      "execution_count": null,
      "outputs": []
    },
    {
      "cell_type": "code",
      "metadata": {
        "colab": {
          "base_uri": "https://localhost:8080/"
        },
        "id": "fltqx7nINkZF",
        "outputId": "925e66e6-f20a-4462-86a8-5c246ce6f795"
      },
      "source": [
        "path1 = \"/content/drive/MyDrive/Fundus_Imaging/Ground_Truth/\"\n",
        "path2 = \"/content/drive/MyDrive/Fundus_Imaging/Results/\"\n",
        "rmse_arr = []\n",
        "psnr_arr = []\n",
        "ssim_arr = []\n",
        "for file in os.listdir(path2):\n",
        "   in_img2 = cv.imread(file)\n",
        "   in_img1 = cv.imread(os.path.join(path1,file.split(\".\")[0]+'.png'))\n",
        "   #print(in_img1.shape)\n",
        "   #print(in_img2.shape)\n",
        "   rmse_out = rmse(in_img1, in_img2)       #root mean square error\n",
        "   rmse_arr.append(float(rmse_out)) \n",
        "   psnr_out = psnr(in_img1, in_img2)       #peak signal to noise ratio\n",
        "   psnr_arr.append(float(psnr_out))\n",
        "   (score, diff) = structural_similarity(cv.cvtColor(in_img2, cv.COLOR_BGR2GRAY), cv.cvtColor(in_img1, cv.COLOR_BGR2GRAY), full=True)\n",
        "   diff = (diff * 255).astype(\"uint8\")\n",
        "   ssim_arr.append(float(score))           #structural similarity index\n",
        "   \n",
        "rmse_arr = np.array(rmse_arr)\n",
        "psnr_arr = np.array(psnr_arr)\n",
        "ssim_arr = np.array(score)\n",
        "print('Average root mean square error: ' + str(np.average(rmse_arr)))\n",
        "print('Average peak signal to noise ratio: ' + str(np.average(psnr_arr)))\n",
        "print('Average structural similarity index values: ' + str(np.average(score)))"
      ],
      "execution_count": null,
      "outputs": [
        {
          "output_type": "stream",
          "name": "stdout",
          "text": [
            "Average root mean square error: 0.012812103579441706\n",
            "Average peak signal to noise ratio: 37.87098782126279\n",
            "Average structural similarity index values: 0.8582882934168227\n"
          ]
        }
      ]
    },
    {
      "cell_type": "code",
      "metadata": {
        "id": "EFAxThtJN9Ab"
      },
      "source": [
        ""
      ],
      "execution_count": null,
      "outputs": []
    }
  ]
}